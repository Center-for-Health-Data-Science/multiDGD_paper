{
 "cells": [
  {
   "cell_type": "code",
   "execution_count": 1,
   "metadata": {},
   "outputs": [],
   "source": [
    "import numpy as np\n",
    "import os\n",
    "import matplotlib.pyplot as plt\n",
    "import pandas as pd\n",
    "import seaborn as sns\n",
    "\n",
    "os.chdir('/Users/dbm829/Documents/work/Projects/GitHub/omicsDGD/')"
   ]
  },
  {
   "attachments": {},
   "cell_type": "markdown",
   "metadata": {},
   "source": [
    "## functions"
   ]
  },
  {
   "cell_type": "code",
   "execution_count": 2,
   "metadata": {},
   "outputs": [],
   "source": [
    "import torch\n",
    "\n",
    "def compute_error_per_sample(target, output, reduction_type='ms'):\n",
    "    '''compute sample-wise error\n",
    "    It can be of type `ms` (mean squared) or `ma` (mean absolute)\n",
    "    '''\n",
    "    error = target - output\n",
    "    if reduction_type == 'ms':\n",
    "        return torch.mean(error**2, dim=-1)\n",
    "    elif reduction_type == 'ma':\n",
    "        return torch.mean(torch.abs(error), dim=-1)\n",
    "    else:\n",
    "        raise ValueError('invalid reduction type given. Can only be `ms` or `ma`.')"
   ]
  },
  {
   "cell_type": "code",
   "execution_count": 3,
   "metadata": {},
   "outputs": [],
   "source": [
    "def binary_output_scores(target, output, scaling_factor, switch, threshold, batch_size=5000, feature_indices=None):\n",
    "    '''returns FPR, FNR, balanced accuracy, LR+ and LR-'''\n",
    "    tp, fp, tn, fn = classify_binary_output(target, output, scaling_factor, switch, threshold, batch_size, feature_indices)\n",
    "    tp = tp.sum()\n",
    "    fp = fp.sum()\n",
    "    tn = tn.sum()\n",
    "    fn = fn.sum()\n",
    "    tpr = tp / (tp + fn) # sensitivity\n",
    "    tnr = tn / (tn + fp) # specificity\n",
    "    fpr = 1 - tnr\n",
    "    fnr = 1 - tpr\n",
    "    balanced_accuracy = (tpr + tnr) / 2\n",
    "    positive_likelihood_ratio = tpr/fpr\n",
    "    negative_likelihood_ratio = fnr/tnr\n",
    "\n",
    "    return tpr.item(), tnr.item(), balanced_accuracy.item(), positive_likelihood_ratio.item(), negative_likelihood_ratio.item()\n",
    "\n",
    "def classify_binary_output(target, output, scaling_factor, switch, threshold, batch_size=5000, feature_indices=None):\n",
    "    '''calculating true positives, false positives, true negatives and false negatives'''\n",
    "    print('classifying binary output')\n",
    "    \n",
    "    n_samples = target.shape[0]\n",
    "    true_positives = torch.zeros((n_samples))\n",
    "    false_positives = torch.zeros((n_samples))\n",
    "    true_negatives = torch.zeros((n_samples))\n",
    "    false_negatives = torch.zeros((n_samples))\n",
    "    \n",
    "    for i in range(int(n_samples/batch_size)+1):\n",
    "        print(round(i/(int(n_samples/batch_size))*100),'%')\n",
    "        start = i*batch_size\n",
    "        end = min((i+1)*batch_size,n_samples)\n",
    "        indices = np.arange(start,end,1)\n",
    "        x_accessibility = binarize(torch.Tensor(target[indices,:])).int()\n",
    "        y_accessibility = output[indices,:]\n",
    "        if type(y_accessibility) is not torch.Tensor:\n",
    "            if type(y_accessibility) == pd.core.frame.DataFrame:\n",
    "                y_accessibility = torch.from_numpy(y_accessibility.values)\n",
    "                y_accessibility = y_accessibility.detach().cpu()\n",
    "        else:\n",
    "            y_accessibility = y_accessibility.detach().cpu()*scaling_factor[indices]\n",
    "        y_accessibility = binarize(y_accessibility, threshold).int()\n",
    "        if feature_indices is not None:\n",
    "            x_accessibility = x_accessibility[:,feature_indices]\n",
    "            y_accessibility = y_accessibility[:,feature_indices]\n",
    "        p = (x_accessibility == 1)\n",
    "        pp = (y_accessibility == 1)\n",
    "        true_positives[indices] = torch.logical_and(p,pp).sum(-1).float()\n",
    "        true_negatives[indices] = torch.logical_and(~p,~pp).sum(-1).float()\n",
    "        false_positives[indices] = (y_accessibility > x_accessibility).sum(-1).float()\n",
    "        false_negatives[indices] = (y_accessibility < x_accessibility).sum(-1).float()\n",
    "    \n",
    "    return true_positives, false_positives, true_negatives, false_negatives\n",
    "\n",
    "def binarize(x, threshold=0.5):\n",
    "    x[x >= threshold] = 1\n",
    "    x[x < threshold] = 0\n",
    "    return x"
   ]
  },
  {
   "attachments": {},
   "cell_type": "markdown",
   "metadata": {},
   "source": [
    "# recalculate all losses"
   ]
  },
  {
   "attachments": {},
   "cell_type": "markdown",
   "metadata": {},
   "source": [
    "## random seed 0"
   ]
  },
  {
   "cell_type": "code",
   "execution_count": null,
   "metadata": {},
   "outputs": [],
   "source": [
    "# read the test and reconstructions from the saved files\n",
    "test_gex = np.load('results/analysis/performance_evaluation/reconstruction/mouse_test_counts_gex.npy')\n",
    "recon_gex = np.load('results/analysis/performance_evaluation/reconstruction/mouse_gast_l20_h2-2_rs0_test_recon_gex.npy')"
   ]
  },
  {
   "cell_type": "code",
   "execution_count": 13,
   "metadata": {},
   "outputs": [],
   "source": [
    "# read the test and reconstructions from the saved files\n",
    "test_atac = np.load('results/analysis/performance_evaluation/reconstruction/test_counts_atac.npy')\n",
    "recon_atac = np.load('results/analysis/performance_evaluation/reconstruction/mouse_gast_l20_h2-2_rs0_test_recon_atac.npy')"
   ]
  },
  {
   "cell_type": "code",
   "execution_count": 3,
   "metadata": {},
   "outputs": [
    {
     "data": {
      "image/png": "[encoded data removed]",
      "text/plain": [
       "<Figure size 1000x500 with 3 Axes>"
      ]
     },
     "metadata": {},
     "output_type": "display_data"
    }
   ],
   "source": [
    "# plot the first three cells\n",
    "fig, ax = plt.subplots(1,3, figsize=(10,5))\n",
    "for i in range(3):\n",
    "    ax[i].scatter(test_gex[i,:], recon_gex[i,:]*test_gex[i,:].sum(), s=1)\n",
    "plt.show()"
   ]
  },
  {
   "cell_type": "code",
   "execution_count": 10,
   "metadata": {},
   "outputs": [
    {
     "name": "stdout",
     "output_type": "stream",
     "text": [
      "RMSE:  1.9660552740097046\n",
      "MAE:  0.8364396691322327\n"
     ]
    }
   ],
   "source": [
    "# compute RMSE and MAE here\n",
    "\n",
    "import torch\n",
    "n_samples = test_gex.shape[0]\n",
    "errors = compute_error_per_sample(torch.tensor(test_gex), torch.tensor(recon_gex)*torch.tensor(test_gex).sum(axis=1).unsqueeze(1), reduction_type='ms')\n",
    "out_error = torch.sqrt(torch.mean(errors))\n",
    "print('RMSE: ', out_error.item())\n",
    "\n",
    "errors = compute_error_per_sample(torch.tensor(test_gex), torch.tensor(recon_gex)*torch.tensor(test_gex).sum(axis=1).unsqueeze(1), reduction_type='ma')\n",
    "out_error = torch.sqrt(torch.mean(errors))\n",
    "print('MAE: ', out_error.item())\n"
   ]
  },
  {
   "cell_type": "code",
   "execution_count": 20,
   "metadata": {},
   "outputs": [
    {
     "name": "stdout",
     "output_type": "stream",
     "text": [
      "classifying binary output\n",
      "0 %\n",
      "100 %\n",
      "   TPR (atac)  TNR (atac)  balanced accuracy       LR+       LR-  \\\n",
      "0    0.820398    0.644441           0.732419  2.307346  0.278694   \n",
      "\n",
      "   binary_threshold  \n",
      "0               0.2  \n"
     ]
    }
   ],
   "source": [
    "# compute loss for ATAC data\n",
    "\n",
    "threshold = 0.2\n",
    "tpr, tnr, balanced_accuracy, positive_likelihood_ratio, negative_likelihood_ratio = binary_output_scores(test_atac, torch.tensor(recon_atac), torch.tensor(test_atac).sum(1).unsqueeze(1), test_gex.shape[1], threshold)\n",
    "df_temp = pd.DataFrame({\n",
    "    'TPR (atac)': tpr,\n",
    "    'TNR (atac)': tnr,\n",
    "    'balanced accuracy': balanced_accuracy,\n",
    "    'LR+': positive_likelihood_ratio,\n",
    "    'LR-': negative_likelihood_ratio,\n",
    "    'binary_threshold': threshold\n",
    "}, index=[0])\n",
    "print(df_temp)"
   ]
  },
  {
   "attachments": {},
   "cell_type": "markdown",
   "metadata": {},
   "source": [
    "## Random seed 37"
   ]
  },
  {
   "cell_type": "code",
   "execution_count": 6,
   "metadata": {},
   "outputs": [],
   "source": [
    "test_gex = np.load('results/analysis/performance_evaluation/reconstruction/mouse_test_counts_gex.npy')\n",
    "recon_gex = np.load('results/analysis/performance_evaluation/reconstruction/mouse_gast_l20_h2-2_rs37_test_recon_gex.npy')\n",
    "test_atac = np.load('results/analysis/performance_evaluation/reconstruction/test_counts_atac.npy')\n",
    "recon_atac = np.load('results/analysis/performance_evaluation/reconstruction/mouse_gast_l20_h2-2_rs37_test_recon_atac.npy')"
   ]
  },
  {
   "cell_type": "code",
   "execution_count": 7,
   "metadata": {},
   "outputs": [
    {
     "data": {
      "image/png": "[encoded data removed]",
      "text/plain": [
       "<Figure size 1000x500 with 3 Axes>"
      ]
     },
     "metadata": {},
     "output_type": "display_data"
    }
   ],
   "source": [
    "# plot the first three cells\n",
    "fig, ax = plt.subplots(1,3, figsize=(10,5))\n",
    "for i in range(3):\n",
    "    ax[i].scatter(test_gex[i,:], recon_gex[i,:]*test_gex[i,:].sum(), s=1)\n",
    "plt.show()"
   ]
  },
  {
   "cell_type": "code",
   "execution_count": 8,
   "metadata": {},
   "outputs": [
    {
     "name": "stdout",
     "output_type": "stream",
     "text": [
      "RMSE:  1.9834249019622803\n",
      "MAE:  0.8358525633811951\n"
     ]
    }
   ],
   "source": [
    "# compute RMSE and MAE here\n",
    "\n",
    "import torch\n",
    "n_samples = test_gex.shape[0]\n",
    "errors = compute_error_per_sample(torch.tensor(test_gex), torch.tensor(recon_gex)*torch.tensor(test_gex).sum(axis=1).unsqueeze(1), reduction_type='ms')\n",
    "out_error = torch.sqrt(torch.mean(errors))\n",
    "print('RMSE: ', out_error.item())\n",
    "\n",
    "errors = compute_error_per_sample(torch.tensor(test_gex), torch.tensor(recon_gex)*torch.tensor(test_gex).sum(axis=1).unsqueeze(1), reduction_type='ma')\n",
    "out_error = torch.sqrt(torch.mean(errors))\n",
    "print('MAE: ', out_error.item())"
   ]
  },
  {
   "cell_type": "code",
   "execution_count": 9,
   "metadata": {},
   "outputs": [
    {
     "name": "stdout",
     "output_type": "stream",
     "text": [
      "classifying binary output\n",
      "0 %\n",
      "100 %\n",
      "   TPR (atac)  TNR (atac)  balanced accuracy       LR+       LR-  \\\n",
      "0    0.820339    0.644587           0.732463  2.308133  0.278722   \n",
      "\n",
      "   binary_threshold  \n",
      "0               0.2  \n"
     ]
    }
   ],
   "source": [
    "# compute loss for ATAC data\n",
    "\n",
    "threshold = 0.2\n",
    "tpr, tnr, balanced_accuracy, positive_likelihood_ratio, negative_likelihood_ratio = binary_output_scores(test_atac, torch.tensor(recon_atac), torch.tensor(test_atac).sum(1).unsqueeze(1), test_gex.shape[1], threshold)\n",
    "df_temp = pd.DataFrame({\n",
    "    'TPR (atac)': tpr,\n",
    "    'TNR (atac)': tnr,\n",
    "    'balanced accuracy': balanced_accuracy,\n",
    "    'LR+': positive_likelihood_ratio,\n",
    "    'LR-': negative_likelihood_ratio,\n",
    "    'binary_threshold': threshold\n",
    "}, index=[0])\n",
    "print(df_temp)"
   ]
  },
  {
   "attachments": {},
   "cell_type": "markdown",
   "metadata": {},
   "source": [
    "## Random seed 8790"
   ]
  },
  {
   "cell_type": "code",
   "execution_count": 6,
   "metadata": {},
   "outputs": [],
   "source": [
    "test_gex = np.load('results/analysis/performance_evaluation/reconstruction/mouse_test_counts_gex.npy')\n",
    "recon_gex = np.load('results/analysis/performance_evaluation/reconstruction/mouse_gast_l20_h2-2_rs8790_test_recon_gex.npy')\n",
    "test_atac = np.load('results/analysis/performance_evaluation/reconstruction/test_counts_atac.npy')\n",
    "recon_atac = np.load('results/analysis/performance_evaluation/reconstruction/mouse_gast_l20_h2-2_rs8790_test_recon_atac.npy')"
   ]
  },
  {
   "cell_type": "code",
   "execution_count": 7,
   "metadata": {},
   "outputs": [
    {
     "data": {
      "image/png": "[encoded data removed]",
      "text/plain": [
       "<Figure size 1000x500 with 3 Axes>"
      ]
     },
     "metadata": {},
     "output_type": "display_data"
    }
   ],
   "source": [
    "# plot the first three cells\n",
    "fig, ax = plt.subplots(1,3, figsize=(10,5))\n",
    "for i in range(3):\n",
    "    ax[i].scatter(test_gex[i,:], recon_gex[i,:]*test_gex[i,:].sum(), s=1)\n",
    "plt.show()"
   ]
  },
  {
   "cell_type": "code",
   "execution_count": 8,
   "metadata": {},
   "outputs": [
    {
     "name": "stdout",
     "output_type": "stream",
     "text": [
      "RMSE:  2.037562131881714\n",
      "MAE:  0.8390697836875916\n"
     ]
    }
   ],
   "source": [
    "# compute RMSE and MAE here\n",
    "\n",
    "import torch\n",
    "n_samples = test_gex.shape[0]\n",
    "errors = compute_error_per_sample(torch.tensor(test_gex), torch.tensor(recon_gex)*torch.tensor(test_gex).sum(axis=1).unsqueeze(1), reduction_type='ms')\n",
    "out_error = torch.sqrt(torch.mean(errors))\n",
    "print('RMSE: ', out_error.item())\n",
    "\n",
    "errors = compute_error_per_sample(torch.tensor(test_gex), torch.tensor(recon_gex)*torch.tensor(test_gex).sum(axis=1).unsqueeze(1), reduction_type='ma')\n",
    "out_error = torch.sqrt(torch.mean(errors))\n",
    "print('MAE: ', out_error.item())"
   ]
  },
  {
   "cell_type": "code",
   "execution_count": 9,
   "metadata": {},
   "outputs": [
    {
     "name": "stdout",
     "output_type": "stream",
     "text": [
      "classifying binary output\n",
      "0 %\n",
      "100 %\n",
      "   TPR (atac)  TNR (atac)  balanced accuracy       LR+       LR-  \\\n",
      "0    0.820196    0.643944            0.73207  2.303561  0.279223   \n",
      "\n",
      "   binary_threshold  \n",
      "0               0.2  \n"
     ]
    }
   ],
   "source": [
    "# compute loss for ATAC data\n",
    "\n",
    "threshold = 0.2\n",
    "tpr, tnr, balanced_accuracy, positive_likelihood_ratio, negative_likelihood_ratio = binary_output_scores(test_atac, torch.tensor(recon_atac), torch.tensor(test_atac).sum(1).unsqueeze(1), test_gex.shape[1], threshold)\n",
    "df_temp = pd.DataFrame({\n",
    "    'TPR (atac)': tpr,\n",
    "    'TNR (atac)': tnr,\n",
    "    'balanced accuracy': balanced_accuracy,\n",
    "    'LR+': positive_likelihood_ratio,\n",
    "    'LR-': negative_likelihood_ratio,\n",
    "    'binary_threshold': threshold\n",
    "}, index=[0])\n",
    "print(df_temp)"
   ]
  }
 ],
 "metadata": {
  "kernelspec": {
   "display_name": "Python 3",
   "language": "python",
   "name": "python3"
  },
  "language_info": {
   "codemirror_mode": {
    "name": "ipython",
    "version": 3
   },
   "file_extension": ".py",
   "mimetype": "text/x-python",
   "name": "python",
   "nbconvert_exporter": "python",
   "pygments_lexer": "ipython3",
   "version": "3.10.8"
  },
  "orig_nbformat": 4
 },
 "nbformat": 4,
 "nbformat_minor": 2
}
