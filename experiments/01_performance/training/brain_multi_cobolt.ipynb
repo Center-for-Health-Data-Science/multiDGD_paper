{
  "nbformat": 4,
  "nbformat_minor": 0,
  "metadata": {
    "colab": {
      "provenance": [],
      "collapsed_sections": [
        "f3Gd0ok9oaQ_",
        "8lVfvLjyy55W",
        "kV4EgJY-on7q",
        "CVeMQ-aoy9j2",
        "i0QqySTe9AL9",
        "dZ08ZPUR9Cbf",
        "d_PirkeG9EN3"
      ]
    },
    "kernelspec": {
      "name": "python3",
      "display_name": "Python 3"
    },
    "language_info": {
      "name": "python"
    }
  },
  "cells": [
    {
      "cell_type": "code",
      "source": [
        "from google.colab import drive\n",
        "drive.mount('/content/drive')\n",
        "\n",
        "! pip install mudata\n",
        "import mudata as md\n",
        "from mudata import MuData\n",
        "! pip install anndata\n",
        "import anndata as ad\n",
        "\n",
        "import torch\n",
        "import numpy as np\n",
        "import pandas as pd"
      ],
      "metadata": {
        "colab": {
          "base_uri": "https://localhost:8080/"
        },
        "id": "C7aAnAVC1PN0",
        "outputId": "b3663d1d-8cb7-47f1-c90f-fcaec4ef68ea"
      },
      "execution_count": null,
      "outputs": [
        {
          "output_type": "stream",
          "name": "stdout",
          "text": [
            "Mounted at /content/drive\n",
            "Collecting mudata\n",
            "  Downloading mudata-0.2.3-py3-none-any.whl (24 kB)\n",
            "Requirement already satisfied: numpy in /usr/local/lib/python3.10/dist-packages (from mudata) (1.22.4)\n",
            "Requirement already satisfied: pandas in /usr/local/lib/python3.10/dist-packages (from mudata) (1.5.3)\n",
            "Requirement already satisfied: h5py in /usr/local/lib/python3.10/dist-packages (from mudata) (3.8.0)\n",
            "Collecting anndata>=0.8 (from mudata)\n",
            "  Downloading anndata-0.9.1-py3-none-any.whl (102 kB)\n",
            "\u001b[2K     \u001b[90m━━━━━━━━━━━━━━━━━━━━━━━━━━━━━━━━━━━━━━━\u001b[0m \u001b[32m103.0/103.0 kB\u001b[0m \u001b[31m3.6 MB/s\u001b[0m eta \u001b[36m0:00:00\u001b[0m\n",
            "\u001b[?25hRequirement already satisfied: scipy>1.4 in /usr/local/lib/python3.10/dist-packages (from anndata>=0.8->mudata) (1.10.1)\n",
            "Requirement already satisfied: natsort in /usr/local/lib/python3.10/dist-packages (from anndata>=0.8->mudata) (8.3.1)\n",
            "Requirement already satisfied: packaging>=20 in /usr/local/lib/python3.10/dist-packages (from anndata>=0.8->mudata) (23.1)\n",
            "Requirement already satisfied: python-dateutil>=2.8.1 in /usr/local/lib/python3.10/dist-packages (from pandas->mudata) (2.8.2)\n",
            "Requirement already satisfied: pytz>=2020.1 in /usr/local/lib/python3.10/dist-packages (from pandas->mudata) (2022.7.1)\n",
            "Requirement already satisfied: six>=1.5 in /usr/local/lib/python3.10/dist-packages (from python-dateutil>=2.8.1->pandas->mudata) (1.16.0)\n",
            "Installing collected packages: anndata, mudata\n",
            "Successfully installed anndata-0.9.1 mudata-0.2.3\n"
          ]
        }
      ]
    },
    {
      "cell_type": "markdown",
      "source": [
        "## import data"
      ],
      "metadata": {
        "id": "nuM9IvYLoYQp"
      }
    },
    {
      "cell_type": "markdown",
      "source": [
        "### brain"
      ],
      "metadata": {
        "id": "f3Gd0ok9oaQ_"
      }
    },
    {
      "cell_type": "code",
      "execution_count": null,
      "metadata": {
        "colab": {
          "base_uri": "https://localhost:8080/"
        },
        "id": "5taCSQjcy1wm",
        "outputId": "c46e16bc-bf46-42c1-b417-1ce0ab30841f"
      },
      "outputs": [
        {
          "output_type": "stream",
          "name": "stdout",
          "text": [
            "MuData object with n_obs × n_vars = 3143 × 110849\n",
            "  obs:\t'celltype'\n",
            "  var:\t'name', 'modality'\n",
            "  2 modalities\n",
            "    rna:\t3143 x 15172\n",
            "      obs:\t'ID', 'rna_celltype', 'atac_celltype'\n",
            "      var:\t'name', 'modality'\n",
            "    atac:\t3143 x 95677\n",
            "      obs:\t'ID', 'rna_celltype', 'atac_celltype'\n",
            "      var:\t'name', 'modality'\n",
            "   num_idx     is_train\n",
            "0        0         test\n",
            "1        1        train\n",
            "2        2        train\n",
            "3        3        train\n",
            "4        4  iid_holdout\n"
          ]
        }
      ],
      "source": [
        "# get data\n",
        "data_prefix = 'drive/MyDrive/Work/multi-omics/brain/'\n",
        "mdata = md.read(data_prefix+'mudata.h5mu', backed=False)\n",
        "print(mdata)\n",
        "# load train_val_test split for fairness\n",
        "import pandas as pd\n",
        "split = pd.read_csv(data_prefix+'train_val_test_split.csv')\n",
        "print(split.head())"
      ]
    },
    {
      "cell_type": "code",
      "source": [
        "train_indices = split[split['is_train'] == 'train']['num_idx'].values\n",
        "train_indices"
      ],
      "metadata": {
        "colab": {
          "base_uri": "https://localhost:8080/"
        },
        "id": "5dfmOJmQ5CGi",
        "outputId": "5dc99dcc-902e-4d1a-c734-00bf33f23aeb"
      },
      "execution_count": null,
      "outputs": [
        {
          "output_type": "execute_result",
          "data": {
            "text/plain": [
              "array([   1,    2,    3, ..., 3138, 3139, 3142])"
            ]
          },
          "metadata": {},
          "execution_count": 4
        }
      ]
    },
    {
      "cell_type": "code",
      "source": [
        "mdata = mdata[train_indices,:]\n",
        "mdata"
      ],
      "metadata": {
        "colab": {
          "base_uri": "https://localhost:8080/",
          "height": 191
        },
        "id": "dFhDlRVE4_jM",
        "outputId": "52f2db18-b4e8-4028-a020-1fa3d9f7f619"
      },
      "execution_count": null,
      "outputs": [
        {
          "output_type": "execute_result",
          "data": {
            "text/plain": [
              "View of MuData object with n_obs × n_vars = 2515 × 110849\n",
              "  obs:\t'celltype'\n",
              "  var:\t'name', 'modality'\n",
              "  2 modalities\n",
              "    rna:\t2515 x 15172\n",
              "      obs:\t'ID', 'rna_celltype', 'atac_celltype'\n",
              "      var:\t'name', 'modality'\n",
              "    atac:\t2515 x 95677\n",
              "      obs:\t'ID', 'rna_celltype', 'atac_celltype'\n",
              "      var:\t'name', 'modality'"
            ],
            "text/html": [
              "<pre>View of MuData object with n_obs × n_vars = 2515 × 110849\n",
              "  obs:\t&#x27;celltype&#x27;\n",
              "  var:\t&#x27;name&#x27;, &#x27;modality&#x27;\n",
              "  2 modalities\n",
              "    rna:\t2515 x 15172\n",
              "      obs:\t&#x27;ID&#x27;, &#x27;rna_celltype&#x27;, &#x27;atac_celltype&#x27;\n",
              "      var:\t&#x27;name&#x27;, &#x27;modality&#x27;\n",
              "    atac:\t2515 x 95677\n",
              "      obs:\t&#x27;ID&#x27;, &#x27;rna_celltype&#x27;, &#x27;atac_celltype&#x27;\n",
              "      var:\t&#x27;name&#x27;, &#x27;modality&#x27;</pre>"
            ]
          },
          "metadata": {},
          "execution_count": 5
        }
      ]
    },
    {
      "cell_type": "markdown",
      "source": [
        "### bone marrow"
      ],
      "metadata": {
        "id": "JBcazTVxoceW"
      }
    },
    {
      "cell_type": "markdown",
      "source": [
        "### gastrulation"
      ],
      "metadata": {
        "id": "O2sRHqq9oiwk"
      }
    },
    {
      "cell_type": "code",
      "source": [
        "# get data\n",
        "data_prefix = 'drive/MyDrive/Work/multi-omics/gastrulation/'\n",
        "mdata = md.read(data_prefix+'mudata.h5mu', backed=False)\n",
        "split = pd.read_csv(data_prefix+'train_val_test_split.csv')\n",
        "train_indices = split[split['is_train'] == 'train']['num_idx'].values\n",
        "mdata = mdata[train_indices,:]\n",
        "mdata"
      ],
      "metadata": {
        "id": "3pZt7b5CpHXC"
      },
      "execution_count": null,
      "outputs": []
    },
    {
      "cell_type": "markdown",
      "source": [
        "# Cobolt\n",
        "\n",
        "This model does not have prediction functions, so reconstruction can not be evaluated. I can only evaluate clustering"
      ],
      "metadata": {
        "id": "8lVfvLjyy55W"
      }
    },
    {
      "cell_type": "code",
      "source": [
        "! pip install git+https://github.com/epurdom/cobolt.git#egg=cobolt"
      ],
      "metadata": {
        "colab": {
          "base_uri": "https://localhost:8080/"
        },
        "id": "v59vQEV74BYY",
        "outputId": "7f969158-e1c1-496f-804b-8171bebaccb2"
      },
      "execution_count": null,
      "outputs": [
        {
          "output_type": "stream",
          "name": "stdout",
          "text": [
            "Collecting cobolt\n",
            "  Cloning https://github.com/epurdom/cobolt.git to /tmp/pip-install-l0kgz2er/cobolt_ad0f54cc478e4e3e8fb28ed13434263e\n",
            "  Running command git clone --filter=blob:none --quiet https://github.com/epurdom/cobolt.git /tmp/pip-install-l0kgz2er/cobolt_ad0f54cc478e4e3e8fb28ed13434263e\n",
            "  Resolved https://github.com/epurdom/cobolt.git to commit cf5a448c6539025346a6393c215ba329cb3a0183\n",
            "  Preparing metadata (setup.py) ... \u001b[?25l\u001b[?25hdone\n",
            "Requirement already satisfied: numpy in /usr/local/lib/python3.10/dist-packages (from cobolt) (1.22.4)\n",
            "Requirement already satisfied: scipy in /usr/local/lib/python3.10/dist-packages (from cobolt) (1.10.1)\n",
            "Requirement already satisfied: torch in /usr/local/lib/python3.10/dist-packages (from cobolt) (2.0.1+cu118)\n",
            "Collecting umap-learn (from cobolt)\n",
            "  Using cached umap-learn-0.5.3.tar.gz (88 kB)\n",
            "  Preparing metadata (setup.py) ... \u001b[?25l\u001b[?25hdone\n",
            "Collecting python-igraph (from cobolt)\n",
            "  Using cached python_igraph-0.10.5-py3-none-any.whl (9.1 kB)\n",
            "Collecting sklearn (from cobolt)\n",
            "  Using cached sklearn-0.0.post7.tar.gz (3.6 kB)\n",
            "  Preparing metadata (setup.py) ... \u001b[?25l\u001b[?25hdone\n",
            "Requirement already satisfied: xgboost in /usr/local/lib/python3.10/dist-packages (from cobolt) (1.7.6)\n",
            "Requirement already satisfied: pandas in /usr/local/lib/python3.10/dist-packages (from cobolt) (1.5.3)\n",
            "Requirement already satisfied: seaborn in /usr/local/lib/python3.10/dist-packages (from cobolt) (0.12.2)\n",
            "Collecting leidenalg (from cobolt)\n",
            "  Downloading leidenalg-0.10.0-cp310-cp310-manylinux_2_17_x86_64.manylinux2014_x86_64.whl (2.0 MB)\n",
            "\u001b[2K     \u001b[90m━━━━━━━━━━━━━━━━━━━━━━━━━━━━━━━━━━━━━━━━\u001b[0m \u001b[32m2.0/2.0 MB\u001b[0m \u001b[31m17.9 MB/s\u001b[0m eta \u001b[36m0:00:00\u001b[0m\n",
            "\u001b[?25hCollecting igraph<0.11,>=0.10.0 (from leidenalg->cobolt)\n",
            "  Downloading igraph-0.10.6-cp39-abi3-manylinux_2_17_x86_64.manylinux2014_x86_64.whl (3.3 MB)\n",
            "\u001b[2K     \u001b[90m━━━━━━━━━━━━━━━━━━━━━━━━━━━━━━━━━━━━━━━━\u001b[0m \u001b[32m3.3/3.3 MB\u001b[0m \u001b[31m88.0 MB/s\u001b[0m eta \u001b[36m0:00:00\u001b[0m\n",
            "\u001b[?25hRequirement already satisfied: python-dateutil>=2.8.1 in /usr/local/lib/python3.10/dist-packages (from pandas->cobolt) (2.8.2)\n",
            "Requirement already satisfied: pytz>=2020.1 in /usr/local/lib/python3.10/dist-packages (from pandas->cobolt) (2022.7.1)\n",
            "  Downloading igraph-0.10.5-cp39-abi3-manylinux_2_17_x86_64.manylinux2014_x86_64.whl (3.3 MB)\n",
            "\u001b[2K     \u001b[90m━━━━━━━━━━━━━━━━━━━━━━━━━━━━━━━━━━━━━━━━\u001b[0m \u001b[32m3.3/3.3 MB\u001b[0m \u001b[31m81.4 MB/s\u001b[0m eta \u001b[36m0:00:00\u001b[0m\n",
            "\u001b[?25hCollecting texttable>=1.6.2 (from igraph<0.11,>=0.10.0->leidenalg->cobolt)\n",
            "  Downloading texttable-1.6.7-py2.py3-none-any.whl (10 kB)\n",
            "Requirement already satisfied: matplotlib!=3.6.1,>=3.1 in /usr/local/lib/python3.10/dist-packages (from seaborn->cobolt) (3.7.1)\n",
            "Requirement already satisfied: filelock in /usr/local/lib/python3.10/dist-packages (from torch->cobolt) (3.12.2)\n",
            "Requirement already satisfied: typing-extensions in /usr/local/lib/python3.10/dist-packages (from torch->cobolt) (4.7.1)\n",
            "Requirement already satisfied: sympy in /usr/local/lib/python3.10/dist-packages (from torch->cobolt) (1.11.1)\n",
            "Requirement already satisfied: networkx in /usr/local/lib/python3.10/dist-packages (from torch->cobolt) (3.1)\n",
            "Requirement already satisfied: jinja2 in /usr/local/lib/python3.10/dist-packages (from torch->cobolt) (3.1.2)\n",
            "Requirement already satisfied: triton==2.0.0 in /usr/local/lib/python3.10/dist-packages (from torch->cobolt) (2.0.0)\n",
            "Requirement already satisfied: cmake in /usr/local/lib/python3.10/dist-packages (from triton==2.0.0->torch->cobolt) (3.25.2)\n",
            "Requirement already satisfied: lit in /usr/local/lib/python3.10/dist-packages (from triton==2.0.0->torch->cobolt) (16.0.6)\n",
            "Requirement already satisfied: scikit-learn>=0.22 in /usr/local/lib/python3.10/dist-packages (from umap-learn->cobolt) (1.2.2)\n",
            "Requirement already satisfied: numba>=0.49 in /usr/local/lib/python3.10/dist-packages (from umap-learn->cobolt) (0.56.4)\n",
            "Collecting pynndescent>=0.5 (from umap-learn->cobolt)\n",
            "  Downloading pynndescent-0.5.10.tar.gz (1.1 MB)\n",
            "\u001b[2K     \u001b[90m━━━━━━━━━━━━━━━━━━━━━━━━━━━━━━━━━━━━━━━━\u001b[0m \u001b[32m1.1/1.1 MB\u001b[0m \u001b[31m65.4 MB/s\u001b[0m eta \u001b[36m0:00:00\u001b[0m\n",
            "\u001b[?25h  Preparing metadata (setup.py) ... \u001b[?25l\u001b[?25hdone\n",
            "Requirement already satisfied: tqdm in /usr/local/lib/python3.10/dist-packages (from umap-learn->cobolt) (4.65.0)\n",
            "Requirement already satisfied: contourpy>=1.0.1 in /usr/local/lib/python3.10/dist-packages (from matplotlib!=3.6.1,>=3.1->seaborn->cobolt) (1.1.0)\n",
            "Requirement already satisfied: cycler>=0.10 in /usr/local/lib/python3.10/dist-packages (from matplotlib!=3.6.1,>=3.1->seaborn->cobolt) (0.11.0)\n",
            "Requirement already satisfied: fonttools>=4.22.0 in /usr/local/lib/python3.10/dist-packages (from matplotlib!=3.6.1,>=3.1->seaborn->cobolt) (4.41.0)\n",
            "Requirement already satisfied: kiwisolver>=1.0.1 in /usr/local/lib/python3.10/dist-packages (from matplotlib!=3.6.1,>=3.1->seaborn->cobolt) (1.4.4)\n",
            "Requirement already satisfied: packaging>=20.0 in /usr/local/lib/python3.10/dist-packages (from matplotlib!=3.6.1,>=3.1->seaborn->cobolt) (23.1)\n",
            "Requirement already satisfied: pillow>=6.2.0 in /usr/local/lib/python3.10/dist-packages (from matplotlib!=3.6.1,>=3.1->seaborn->cobolt) (8.4.0)\n",
            "Requirement already satisfied: pyparsing>=2.3.1 in /usr/local/lib/python3.10/dist-packages (from matplotlib!=3.6.1,>=3.1->seaborn->cobolt) (3.1.0)\n",
            "Requirement already satisfied: llvmlite<0.40,>=0.39.0dev0 in /usr/local/lib/python3.10/dist-packages (from numba>=0.49->umap-learn->cobolt) (0.39.1)\n",
            "Requirement already satisfied: setuptools in /usr/local/lib/python3.10/dist-packages (from numba>=0.49->umap-learn->cobolt) (67.7.2)\n",
            "Requirement already satisfied: joblib>=0.11 in /usr/local/lib/python3.10/dist-packages (from pynndescent>=0.5->umap-learn->cobolt) (1.3.1)\n",
            "Requirement already satisfied: six>=1.5 in /usr/local/lib/python3.10/dist-packages (from python-dateutil>=2.8.1->pandas->cobolt) (1.16.0)\n",
            "Requirement already satisfied: threadpoolctl>=2.0.0 in /usr/local/lib/python3.10/dist-packages (from scikit-learn>=0.22->umap-learn->cobolt) (3.1.0)\n",
            "Requirement already satisfied: MarkupSafe>=2.0 in /usr/local/lib/python3.10/dist-packages (from jinja2->torch->cobolt) (2.1.3)\n",
            "Requirement already satisfied: mpmath>=0.19 in /usr/local/lib/python3.10/dist-packages (from sympy->torch->cobolt) (1.3.0)\n",
            "Building wheels for collected packages: cobolt, sklearn, umap-learn, pynndescent\n",
            "  Building wheel for cobolt (setup.py) ... \u001b[?25l\u001b[?25hdone\n",
            "  Created wheel for cobolt: filename=cobolt-0.0.1-py3-none-any.whl size=27482 sha256=56648c5bfb71099e3cc0590d784e50b9109f8c9e1b9a41ad3947b63890065b63\n",
            "  Stored in directory: /tmp/pip-ephem-wheel-cache-dqk5jglp/wheels/6d/da/23/b49d4d3742d6caae78d695369be68096f08f49890671a8e14c\n",
            "  Building wheel for sklearn (setup.py) ... \u001b[?25l\u001b[?25hdone\n",
            "  Created wheel for sklearn: filename=sklearn-0.0.post7-py3-none-any.whl size=2952 sha256=a18feb395fd7f0f634dc95f6a5ecf8a6f4bcf976e5094f0c0b150fe1294a98c9\n",
            "  Stored in directory: /root/.cache/pip/wheels/c8/9c/85/72901eb50bc4bc6e3b2629378d172384ea3dfd19759c77fd2c\n",
            "  Building wheel for umap-learn (setup.py) ... \u001b[?25l\u001b[?25hdone\n",
            "  Created wheel for umap-learn: filename=umap_learn-0.5.3-py3-none-any.whl size=82816 sha256=1988c12c28955debb94d84d1cae5b981c46b6d4eacba297a6f05d5b2b733e37a\n",
            "  Stored in directory: /root/.cache/pip/wheels/a0/e8/c6/a37ea663620bd5200ea1ba0907ab3c217042c1d035ef606acc\n",
            "  Building wheel for pynndescent (setup.py) ... \u001b[?25l\u001b[?25hdone\n",
            "  Created wheel for pynndescent: filename=pynndescent-0.5.10-py3-none-any.whl size=55622 sha256=70f331538d431034e888c0b8734a03bc9b7acdef1550bda0d7fe1ae543a540ee\n",
            "  Stored in directory: /root/.cache/pip/wheels/4a/38/5d/f60a40a66a9512b7e5e83517ebc2d1b42d857be97d135f1096\n",
            "Successfully built cobolt sklearn umap-learn pynndescent\n",
            "Installing collected packages: texttable, sklearn, igraph, python-igraph, leidenalg, pynndescent, umap-learn, cobolt\n",
            "Successfully installed cobolt-0.0.1 igraph-0.10.5 leidenalg-0.10.0 pynndescent-0.5.10 python-igraph-0.10.5 sklearn-0.0.post7 texttable-1.6.7 umap-learn-0.5.3\n"
          ]
        }
      ]
    },
    {
      "cell_type": "code",
      "source": [
        "#! pip install git+https://github.com/epurdom/cobolt.git#egg=cobolt\n",
        "\n",
        "from cobolt.utils import SingleData, MultiomicDataset\n",
        "from cobolt.model import Cobolt"
      ],
      "metadata": {
        "id": "P_oaq57u1jpg"
      },
      "execution_count": null,
      "outputs": []
    },
    {
      "cell_type": "markdown",
      "source": [
        "## brain"
      ],
      "metadata": {
        "id": "kV4EgJY-on7q"
      }
    },
    {
      "cell_type": "markdown",
      "source": [
        "### data prep"
      ],
      "metadata": {
        "id": "CVeMQ-aoy9j2"
      }
    },
    {
      "cell_type": "code",
      "source": [
        "rna = SingleData(feature_name='rna',\n",
        "                 dataset_name='brain',\n",
        "                 feature=mdata['rna'].var_names,\n",
        "                 count=mdata['rna'].X,\n",
        "                 barcode=mdata['rna'].obs_names)"
      ],
      "metadata": {
        "id": "HD1xrDNV3Zuj"
      },
      "execution_count": null,
      "outputs": []
    },
    {
      "cell_type": "code",
      "source": [
        "atac = SingleData(feature_name='atac',\n",
        "                 dataset_name='brain',\n",
        "                 feature=mdata['atac'].var_names,\n",
        "                 count=mdata['atac'].X,\n",
        "                 barcode=mdata['atac'].obs_names)"
      ],
      "metadata": {
        "id": "WHFa3L1R3-od"
      },
      "execution_count": null,
      "outputs": []
    },
    {
      "cell_type": "code",
      "source": [
        "multi_dt = MultiomicDataset.from_singledata(rna, atac)"
      ],
      "metadata": {
        "id": "6IG-QKNH2xaC"
      },
      "execution_count": null,
      "outputs": []
    },
    {
      "cell_type": "markdown",
      "source": [
        "### rs 0"
      ],
      "metadata": {
        "id": "i0QqySTe9AL9"
      }
    },
    {
      "cell_type": "code",
      "source": [
        "model = Cobolt(dataset=multi_dt, n_latent=20)"
      ],
      "metadata": {
        "id": "pt-Hso024idC"
      },
      "execution_count": null,
      "outputs": []
    },
    {
      "cell_type": "code",
      "source": [
        "model.train(num_epochs=100)"
      ],
      "metadata": {
        "colab": {
          "base_uri": "https://localhost:8080/"
        },
        "id": "hQMN0KTb4jLJ",
        "outputId": "a3bef862-1fd9-41ca-81a6-f5b1480e592b"
      },
      "execution_count": null,
      "outputs": [
        {
          "output_type": "stream",
          "name": "stderr",
          "text": [
            "100%|██████████| 100/100 [1:06:42<00:00, 40.03s/it]\n"
          ]
        }
      ]
    },
    {
      "cell_type": "code",
      "source": [
        "model.calc_all_latent()\n",
        "latent = model.get_all_latent()\n",
        "latent"
      ],
      "metadata": {
        "colab": {
          "base_uri": "https://localhost:8080/"
        },
        "id": "uz9qVl4U5d9x",
        "outputId": "5445e441-7e7e-4221-e542-e2091915515c"
      },
      "execution_count": null,
      "outputs": [
        {
          "output_type": "execute_result",
          "data": {
            "text/plain": [
              "(array([[ 0.7740962 , -0.20343098, -1.231939  , ..., -1.177858  ,\n",
              "          2.3702161 , -0.02110895],\n",
              "        [-0.19872797,  1.5387957 , -1.5723984 , ...,  1.1738621 ,\n",
              "         -0.3395935 ,  0.6186799 ],\n",
              "        [-0.71716064, -0.852753  , -0.7934903 , ..., -0.9653031 ,\n",
              "          0.99394345,  2.064256  ],\n",
              "        ...,\n",
              "        [ 2.1422603 , -0.34024546, -1.1798197 , ...,  2.9369807 ,\n",
              "         -0.802717  , -0.3637294 ],\n",
              "        [-0.44300288, -0.7599373 ,  3.1076176 , ...,  2.8350754 ,\n",
              "         -0.82764995, -0.01621963],\n",
              "        [ 1.4710057 ,  0.0082342 , -1.5726371 , ...,  3.1757472 ,\n",
              "         -0.6674981 ,  2.2743235 ]], dtype=float32),\n",
              " array(['brain~AAACAGCCAGCTCATA-1', 'brain~AAACATGCACGTTACA-1',\n",
              "        'brain~AAACATGCATAAACCT-1', ..., 'brain~TTTGTGGCACCAAAGG-1',\n",
              "        'brain~TTTGTGGCAGTTATGT-1', 'brain~TTTGTTGGTTCAAGCA-1'],\n",
              "       dtype='<U24'))"
            ]
          },
          "metadata": {},
          "execution_count": 34
        }
      ]
    },
    {
      "cell_type": "code",
      "source": [
        "latent[0].shape"
      ],
      "metadata": {
        "colab": {
          "base_uri": "https://localhost:8080/"
        },
        "id": "mF69qflc8Pb0",
        "outputId": "ba365913-86b9-475b-cc93-412a76961c0d"
      },
      "execution_count": null,
      "outputs": [
        {
          "output_type": "execute_result",
          "data": {
            "text/plain": [
              "(2515, 20)"
            ]
          },
          "metadata": {},
          "execution_count": 27
        }
      ]
    },
    {
      "cell_type": "code",
      "source": [
        "# save latents\n",
        "np.save(data_prefix+'cobolt_latent_rs0', latent[0])"
      ],
      "metadata": {
        "id": "JBDkrlt-7hiy"
      },
      "execution_count": null,
      "outputs": []
    },
    {
      "cell_type": "code",
      "source": [
        "# resolution in MultiVI was 1 I think\n",
        "model.clustering(algo=\"leiden\", resolution=1)\n",
        "#clusters = model.get_clusters(algo=\"leiden\", resolution=1.)"
      ],
      "metadata": {
        "colab": {
          "base_uri": "https://localhost:8080/"
        },
        "id": "qHdSOWpJ6WxP",
        "outputId": "dd746dcd-481e-49fa-9db8-02acaa6664d9"
      },
      "execution_count": null,
      "outputs": [
        {
          "output_type": "stream",
          "name": "stdout",
          "text": [
            "Running Leiden clustering algorithm with resolution 1.000.\n"
          ]
        }
      ]
    },
    {
      "cell_type": "code",
      "source": [
        "model.scatter_plot(reduc=\"UMAP\", algo=\"leiden\", resolution=1., s=0.2)"
      ],
      "metadata": {
        "colab": {
          "base_uri": "https://localhost:8080/",
          "height": 463
        },
        "id": "fBu1hazt6vCp",
        "outputId": "be4d6dee-be03-4a4b-c2c6-10ab241f491d"
      },
      "execution_count": null,
      "outputs": [
        {
          "output_type": "stream",
          "name": "stdout",
          "text": [
            "Running UMAP with latent variable correction.\n"
          ]
        },
        {
          "output_type": "display_data",
          "data": {
            "text/plain": [
              "<Figure size 1000x500 with 2 Axes>"
            ],
            "image/png": "[encoded data removed]"
          },
          "metadata": {}
        }
      ]
    },
    {
      "cell_type": "markdown",
      "source": [
        "### rs 37"
      ],
      "metadata": {
        "id": "dZ08ZPUR9Cbf"
      }
    },
    {
      "cell_type": "code",
      "source": [
        "seed = 37\n",
        "torch.manual_seed(seed)\n",
        "np.random.seed(seed)\n",
        "if torch.cuda.is_available():\n",
        "    torch.cuda.manual_seed_all(seed)\n",
        "\n",
        "model = Cobolt(dataset=multi_dt, n_latent=20)\n",
        "model.train(num_epochs=100)\n",
        "model.calc_all_latent()\n",
        "latent = model.get_all_latent()\n",
        "# save latents\n",
        "np.save(data_prefix+'cobolt_latent_rs37', latent[0])"
      ],
      "metadata": {
        "colab": {
          "base_uri": "https://localhost:8080/"
        },
        "id": "mFGD_sWJ9Dvp",
        "outputId": "ade3fe80-e48f-40e4-b96d-756c9e77fed3"
      },
      "execution_count": null,
      "outputs": [
        {
          "output_type": "error",
          "ename": "NameError",
          "evalue": "ignored",
          "traceback": [
            "\u001b[0;31m---------------------------------------------------------------------------\u001b[0m",
            "\u001b[0;31mNameError\u001b[0m                                 Traceback (most recent call last)",
            "\u001b[0;32m<ipython-input-1-c7adec828e19>\u001b[0m in \u001b[0;36m<cell line: 2>\u001b[0;34m()\u001b[0m\n\u001b[1;32m      1\u001b[0m \u001b[0mseed\u001b[0m \u001b[0;34m=\u001b[0m \u001b[0;36m37\u001b[0m\u001b[0;34m\u001b[0m\u001b[0;34m\u001b[0m\u001b[0m\n\u001b[0;32m----> 2\u001b[0;31m \u001b[0mtorch\u001b[0m\u001b[0;34m.\u001b[0m\u001b[0mmanual_seed\u001b[0m\u001b[0;34m(\u001b[0m\u001b[0mseed\u001b[0m\u001b[0;34m)\u001b[0m\u001b[0;34m\u001b[0m\u001b[0;34m\u001b[0m\u001b[0m\n\u001b[0m\u001b[1;32m      3\u001b[0m \u001b[0mnp\u001b[0m\u001b[0;34m.\u001b[0m\u001b[0mrandom\u001b[0m\u001b[0;34m.\u001b[0m\u001b[0mseed\u001b[0m\u001b[0;34m(\u001b[0m\u001b[0mseed\u001b[0m\u001b[0;34m)\u001b[0m\u001b[0;34m\u001b[0m\u001b[0;34m\u001b[0m\u001b[0m\n\u001b[1;32m      4\u001b[0m \u001b[0;32mif\u001b[0m \u001b[0mtorch\u001b[0m\u001b[0;34m.\u001b[0m\u001b[0mcuda\u001b[0m\u001b[0;34m.\u001b[0m\u001b[0mis_available\u001b[0m\u001b[0;34m(\u001b[0m\u001b[0;34m)\u001b[0m\u001b[0;34m:\u001b[0m\u001b[0;34m\u001b[0m\u001b[0;34m\u001b[0m\u001b[0m\n\u001b[1;32m      5\u001b[0m     \u001b[0mtorch\u001b[0m\u001b[0;34m.\u001b[0m\u001b[0mcuda\u001b[0m\u001b[0;34m.\u001b[0m\u001b[0mmanual_seed_all\u001b[0m\u001b[0;34m(\u001b[0m\u001b[0mseed\u001b[0m\u001b[0;34m)\u001b[0m\u001b[0;34m\u001b[0m\u001b[0;34m\u001b[0m\u001b[0m\n",
            "\u001b[0;31mNameError\u001b[0m: name 'torch' is not defined"
          ]
        }
      ]
    },
    {
      "cell_type": "markdown",
      "source": [
        "### rs 8790"
      ],
      "metadata": {
        "id": "d_PirkeG9EN3"
      }
    },
    {
      "cell_type": "code",
      "source": [
        "seed = 8790\n",
        "torch.manual_seed(seed)\n",
        "np.random.seed(seed)\n",
        "if torch.cuda.is_available():\n",
        "    torch.cuda.manual_seed_all(seed)\n",
        "\n",
        "model = Cobolt(dataset=multi_dt, lr=1e-3, n_latent=20)\n",
        "model.train(num_epochs=100)\n",
        "model.calc_all_latent()\n",
        "latent = model.get_all_latent()\n",
        "# save latents\n",
        "np.save(data_prefix+'cobolt_latent_rs8790', latent[0])"
      ],
      "metadata": {
        "colab": {
          "base_uri": "https://localhost:8080/"
        },
        "id": "BrAv4VSj9rT9",
        "outputId": "ce586bdc-6edd-4d4c-aa91-dccaf3f85de1"
      },
      "execution_count": null,
      "outputs": [
        {
          "output_type": "stream",
          "name": "stderr",
          "text": [
            "100%|██████████| 100/100 [1:05:57<00:00, 39.58s/it]\n"
          ]
        }
      ]
    },
    {
      "cell_type": "markdown",
      "source": [
        "## bone marrow"
      ],
      "metadata": {
        "id": "cpGjFU6Co6qa"
      }
    },
    {
      "cell_type": "markdown",
      "source": [
        "## gastrulation"
      ],
      "metadata": {
        "id": "N69V78Quo7u7"
      }
    }
  ]
}