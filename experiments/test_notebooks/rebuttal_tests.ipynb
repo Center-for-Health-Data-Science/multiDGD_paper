{
 "cells": [
  {
   "cell_type": "code",
   "execution_count": 1,
   "metadata": {},
   "outputs": [],
   "source": [
    "# imports\n",
    "import os\n",
    "import pandas as pd\n",
    "import numpy as np\n",
    "import matplotlib.pyplot as plt\n",
    "import seaborn as sns\n",
    "import matplotlib.gridspec as gridspec\n",
    "#from sklearn.metrics import silhouette_score\n",
    "\n",
    "result_dir = \"../results/revision/analysis/\"\n",
    "plot_dir = \"../results/revision/plots/\"\n",
    "\n",
    "cm = 1 / 2.54\n",
    "\n",
    "import matplotlib.gridspec as gridspec\n",
    "\n",
    "batch_palette = [\"#EEE7A8\", \"cornflowerblue\", \"darkmagenta\", \"darkslategray\"]\n",
    "stage_palette = \"magma_r\"\n",
    "palette_3colrs = [\"#DAA327\", \"#BDE1CD\", \"#015799\"]\n",
    "\n",
    "plt.rcParams.update(\n",
    "    {\n",
    "        \"font.size\": 6,\n",
    "        \"axes.linewidth\": 0.3,\n",
    "        \"xtick.major.size\": 1.5,\n",
    "        \"xtick.major.width\": 0.3,\n",
    "        \"ytick.major.size\": 1.5,\n",
    "        \"ytick.major.width\": 0.3,\n",
    "    }\n",
    ")\n",
    "\n",
    "handletextpad = 0.1\n",
    "point_size = 0.5\n",
    "linewidth = 0.2\n",
    "alpha = 0.1\n",
    "point_linewidth = 0.0\n",
    "handlesize = 0.3\n",
    "dodge = True"
   ]
  },
  {
   "cell_type": "code",
   "execution_count": 29,
   "metadata": {},
   "outputs": [
    {
     "name": "stdout",
     "output_type": "stream",
     "text": [
      "         ARI  Number of cells\n",
      "0   0.654657            42535\n",
      "1   0.659651            42535\n",
      "2   0.651396            28357\n",
      "3   0.635885            28357\n",
      "4   0.635487            14178\n",
      "5   0.635007            14178\n",
      "6   0.509691             5671\n",
      "7   0.511926             5671\n",
      "11  0.491517              567\n",
      "12  0.659651            42535\n",
      "13  0.640015            42535\n",
      "14  0.570626            28357\n",
      "15  0.587055            14178\n",
      "16  0.417386             5671\n",
      "17  0.427427              567\n"
     ]
    }
   ],
   "source": [
    "# read in the csv file \"wandb_subset_ARIs.csv\"\n",
    "\n",
    "df = pd.read_csv(result_dir + \"performance/wandb_subset_ARIs.csv\", sep=\",\")\n",
    "# remove rows 8-10\n",
    "df = df.drop([8, 9, 10])\n",
    "\n",
    "# make a column for the number of cells (these are given in the last part of the run name after \"subset\")\n",
    "df[\"n_cells\"] = [x.split(\"_\")[-1][6:] for x in df[\"Name\"]]\n",
    "df[\"n_cells\"] = df[\"n_cells\"].astype(int)\n",
    "\n",
    "# remove columns Name and Index\n",
    "df = df.drop(columns=[\"Name\", \"Index\", \"_wandb\"])\n",
    "# rename columns\n",
    "df = df.rename(columns={\"AdjustedRandIndex_fromMetaLabel\": \"ARI\", \"n_cells\": \"Number of cells\"})\n",
    "\n",
    "print(df)"
   ]
  },
  {
   "cell_type": "code",
   "execution_count": 31,
   "metadata": {},
   "outputs": [
    {
     "data": {
      "image/png": "[encoded data removed]",
      "text/plain": [
       "<Figure size 314.961x236.22 with 1 Axes>"
      ]
     },
     "metadata": {},
     "output_type": "display_data"
    }
   ],
   "source": [
    "# plot the ARI over number of cells\n",
    "\n",
    "pointplot_scale = 0.5\n",
    "pointplot_errwidth = 0.7\n",
    "pointplot_capsize = 0.2\n",
    "\n",
    "fig, ax = plt.subplots(figsize=(8 * cm, 6 * cm))\n",
    "sns.pointplot(\n",
    "    x=\"Number of cells\",\n",
    "    y=\"ARI\",\n",
    "    data=df,\n",
    "    ax=ax,\n",
    "    color=\"black\",\n",
    "    linestyles=\"\",\n",
    "    scale=pointplot_scale,\n",
    "    errwidth=pointplot_errwidth,\n",
    "    capsize=pointplot_capsize,\n",
    ")\n",
    "ax.set_ylim(0, 1)\n",
    "plt.show()"
   ]
  },
  {
   "cell_type": "markdown",
   "metadata": {},
   "source": [
    "### calculate the clustering performance of MultiVI"
   ]
  },
  {
   "cell_type": "code",
   "execution_count": 2,
   "metadata": {},
   "outputs": [
    {
     "name": "stderr",
     "output_type": "stream",
     "text": [
      "/Users/dbm829/anaconda3/envs/multidgd-paper/lib/python3.9/site-packages/scvi/_settings.py:63: UserWarning: Since v1.0.0, scvi-tools no longer uses a random seed by default. Run `scvi.settings.seed = 0` to reproduce results from previous versions.\n",
      "  self.seed = seed\n",
      "/Users/dbm829/anaconda3/envs/multidgd-paper/lib/python3.9/site-packages/scvi/_settings.py:70: UserWarning: Setting `dl_pin_memory_gpu_training` is deprecated in v1.0 and will be removed in v1.1. Please pass in `pin_memory` to the data loaders instead.\n",
      "  self.dl_pin_memory_gpu_training = (\n",
      "/Users/dbm829/anaconda3/envs/multidgd-paper/lib/python3.9/site-packages/tqdm/auto.py:21: TqdmWarning: IProgress not found. Please update jupyter and ipywidgets. See https://ipywidgets.readthedocs.io/en/stable/user_install.html\n",
      "  from .autonotebook import tqdm as notebook_tqdm\n"
     ]
    },
    {
     "name": "stdout",
     "output_type": "stream",
     "text": [
      "###\n",
      "Fraction 1.0\n",
      "###\n",
      "   loaded data\n",
      "\u001b[34mINFO    \u001b[0m File ..\u001b[35m/results/trained_models/multiVI/human_bonemarrow/l20_e2_d2/\u001b[0m\u001b[95mmodel.pt\u001b[0m already downloaded             \n"
     ]
    },
    {
     "name": "stderr",
     "output_type": "stream",
     "text": [
      "/Users/dbm829/anaconda3/envs/multidgd-paper/lib/python3.9/site-packages/torch/nn/init.py:405: UserWarning: Initializing zero-element tensors is a no-op\n",
      "  warnings.warn(\"Initializing zero-element tensors is a no-op\")\n",
      "/Users/dbm829/anaconda3/envs/multidgd-paper/lib/python3.9/site-packages/umap/distances.py:1063: NumbaDeprecationWarning: \u001b[1mThe 'nopython' keyword argument was not supplied to the 'numba.jit' decorator. The implicit default value for this argument is currently False, but it will be changed to True in Numba 0.59.0. See https://numba.readthedocs.io/en/stable/reference/deprecation.html#deprecation-of-object-mode-fall-back-behaviour-when-using-jit for details.\u001b[0m\n",
      "  @numba.jit()\n",
      "/Users/dbm829/anaconda3/envs/multidgd-paper/lib/python3.9/site-packages/umap/distances.py:1071: NumbaDeprecationWarning: \u001b[1mThe 'nopython' keyword argument was not supplied to the 'numba.jit' decorator. The implicit default value for this argument is currently False, but it will be changed to True in Numba 0.59.0. See https://numba.readthedocs.io/en/stable/reference/deprecation.html#deprecation-of-object-mode-fall-back-behaviour-when-using-jit for details.\u001b[0m\n",
      "  @numba.jit()\n",
      "/Users/dbm829/anaconda3/envs/multidgd-paper/lib/python3.9/site-packages/umap/distances.py:1086: NumbaDeprecationWarning: \u001b[1mThe 'nopython' keyword argument was not supplied to the 'numba.jit' decorator. The implicit default value for this argument is currently False, but it will be changed to True in Numba 0.59.0. See https://numba.readthedocs.io/en/stable/reference/deprecation.html#deprecation-of-object-mode-fall-back-behaviour-when-using-jit for details.\u001b[0m\n",
      "  @numba.jit()\n",
      "/Users/dbm829/anaconda3/envs/multidgd-paper/lib/python3.9/site-packages/umap/umap_.py:660: NumbaDeprecationWarning: \u001b[1mThe 'nopython' keyword argument was not supplied to the 'numba.jit' decorator. The implicit default value for this argument is currently False, but it will be changed to True in Numba 0.59.0. See https://numba.readthedocs.io/en/stable/reference/deprecation.html#deprecation-of-object-mode-fall-back-behaviour-when-using-jit for details.\u001b[0m\n",
      "  @numba.jit()\n"
     ]
    },
    {
     "name": "stdout",
     "output_type": "stream",
     "text": [
      "ARI: 0.5402322304450794\n",
      "\u001b[34mINFO    \u001b[0m File ..\u001b[35m/results/trained_models/multiVI/human_bonemarrow/l20_e2_d2_rs37/\u001b[0m\u001b[95mmodel.pt\u001b[0m already downloaded        \n"
     ]
    },
    {
     "name": "stderr",
     "output_type": "stream",
     "text": [
      "/Users/dbm829/anaconda3/envs/multidgd-paper/lib/python3.9/site-packages/torch/nn/init.py:405: UserWarning: Initializing zero-element tensors is a no-op\n",
      "  warnings.warn(\"Initializing zero-element tensors is a no-op\")\n"
     ]
    },
    {
     "name": "stdout",
     "output_type": "stream",
     "text": [
      "ARI: 0.5477289120121298\n",
      "\u001b[34mINFO    \u001b[0m File ..\u001b[35m/results/trained_models/multiVI/human_bonemarrow/l20_e2_d2_rs8790/\u001b[0m\u001b[95mmodel.pt\u001b[0m already downloaded      \n"
     ]
    },
    {
     "name": "stderr",
     "output_type": "stream",
     "text": [
      "/var/folders/tp/pr1hfl8527z35j1791t_j9bc0000gn/T/ipykernel_18902/3339311826.py:122: FutureWarning: The frame.append method is deprecated and will be removed from pandas in a future version. Use pandas.concat instead.\n",
      "  metrics_mvi = metrics_mvi.append(metrics_temp)\n",
      "/Users/dbm829/anaconda3/envs/multidgd-paper/lib/python3.9/site-packages/torch/nn/init.py:405: UserWarning: Initializing zero-element tensors is a no-op\n",
      "  warnings.warn(\"Initializing zero-element tensors is a no-op\")\n"
     ]
    },
    {
     "name": "stdout",
     "output_type": "stream",
     "text": [
      "ARI: 0.5352972889451693\n",
      "###\n",
      "Fraction 0.75\n",
      "###\n"
     ]
    },
    {
     "name": "stderr",
     "output_type": "stream",
     "text": [
      "/var/folders/tp/pr1hfl8527z35j1791t_j9bc0000gn/T/ipykernel_18902/3339311826.py:122: FutureWarning: The frame.append method is deprecated and will be removed from pandas in a future version. Use pandas.concat instead.\n",
      "  metrics_mvi = metrics_mvi.append(metrics_temp)\n"
     ]
    },
    {
     "name": "stdout",
     "output_type": "stream",
     "text": [
      "   loaded data\n",
      "\u001b[34mINFO    \u001b[0m File ..\u001b[35m/results/trained_models/multiVI/human_bonemarrow/l20_e2_d2_rs0_subset42535/\u001b[0m\u001b[95mmodel.pt\u001b[0m already        \n",
      "         downloaded                                                                                                \n"
     ]
    },
    {
     "name": "stderr",
     "output_type": "stream",
     "text": [
      "/Users/dbm829/anaconda3/envs/multidgd-paper/lib/python3.9/site-packages/torch/nn/init.py:405: UserWarning: Initializing zero-element tensors is a no-op\n",
      "  warnings.warn(\"Initializing zero-element tensors is a no-op\")\n"
     ]
    },
    {
     "name": "stdout",
     "output_type": "stream",
     "text": [
      "ARI: 0.5341187993802892\n",
      "\u001b[34mINFO    \u001b[0m File ..\u001b[35m/results/trained_models/multiVI/human_bonemarrow/l20_e2_d2_rs37_subset42535/\u001b[0m\u001b[95mmodel.pt\u001b[0m already       \n",
      "         downloaded                                                                                                \n"
     ]
    },
    {
     "name": "stderr",
     "output_type": "stream",
     "text": [
      "/var/folders/tp/pr1hfl8527z35j1791t_j9bc0000gn/T/ipykernel_18902/3339311826.py:122: FutureWarning: The frame.append method is deprecated and will be removed from pandas in a future version. Use pandas.concat instead.\n",
      "  metrics_mvi = metrics_mvi.append(metrics_temp)\n",
      "/Users/dbm829/anaconda3/envs/multidgd-paper/lib/python3.9/site-packages/torch/nn/init.py:405: UserWarning: Initializing zero-element tensors is a no-op\n",
      "  warnings.warn(\"Initializing zero-element tensors is a no-op\")\n"
     ]
    },
    {
     "name": "stdout",
     "output_type": "stream",
     "text": [
      "ARI: 0.5435147750404734\n",
      "\u001b[34mINFO    \u001b[0m File ..\u001b[35m/results/trained_models/multiVI/human_bonemarrow/l20_e2_d2_rs8790_subset42535/\u001b[0m\u001b[95mmodel.pt\u001b[0m already     \n",
      "         downloaded                                                                                                \n"
     ]
    },
    {
     "name": "stderr",
     "output_type": "stream",
     "text": [
      "/var/folders/tp/pr1hfl8527z35j1791t_j9bc0000gn/T/ipykernel_18902/3339311826.py:122: FutureWarning: The frame.append method is deprecated and will be removed from pandas in a future version. Use pandas.concat instead.\n",
      "  metrics_mvi = metrics_mvi.append(metrics_temp)\n",
      "/Users/dbm829/anaconda3/envs/multidgd-paper/lib/python3.9/site-packages/torch/nn/init.py:405: UserWarning: Initializing zero-element tensors is a no-op\n",
      "  warnings.warn(\"Initializing zero-element tensors is a no-op\")\n"
     ]
    },
    {
     "name": "stdout",
     "output_type": "stream",
     "text": [
      "ARI: 0.5415337596682049\n",
      "###\n",
      "Fraction 0.5\n",
      "###\n"
     ]
    },
    {
     "name": "stderr",
     "output_type": "stream",
     "text": [
      "/var/folders/tp/pr1hfl8527z35j1791t_j9bc0000gn/T/ipykernel_18902/3339311826.py:122: FutureWarning: The frame.append method is deprecated and will be removed from pandas in a future version. Use pandas.concat instead.\n",
      "  metrics_mvi = metrics_mvi.append(metrics_temp)\n"
     ]
    },
    {
     "name": "stdout",
     "output_type": "stream",
     "text": [
      "   loaded data\n",
      "\u001b[34mINFO    \u001b[0m File ..\u001b[35m/results/trained_models/multiVI/human_bonemarrow/l20_e2_d2_rs0_subset28357/\u001b[0m\u001b[95mmodel.pt\u001b[0m already        \n",
      "         downloaded                                                                                                \n"
     ]
    },
    {
     "ename": "",
     "evalue": "",
     "output_type": "error",
     "traceback": [
      "\u001b[1;31mThe Kernel crashed while executing code in the current cell or a previous cell. \n",
      "\u001b[1;31mPlease review the code in the cell(s) to identify a possible cause of the failure. \n",
      "\u001b[1;31mClick <a href='https://aka.ms/vscodeJupyterKernelCrash'>here</a> for more info. \n",
      "\u001b[1;31mView Jupyter <a href='command:jupyter.viewOutput'>log</a> for further details."
     ]
    }
   ],
   "source": [
    "import scvi\n",
    "import scanpy as sc\n",
    "import torch\n",
    "import numpy as np\n",
    "import pandas as pd\n",
    "import anndata as ad\n",
    "from sklearn import preprocessing\n",
    "from sklearn.metrics import adjusted_rand_score\n",
    "\n",
    "save_dir = \"../results/trained_models/\"\n",
    "data_name = \"human_bonemarrow\"\n",
    "\n",
    "\"\"\"\n",
    "Go through datasets and chosen models and compute reconstruction performances\n",
    "\"\"\"\n",
    "data_name = \"human_bonemarrow\"\n",
    "adata = ad.read_h5ad(\"../../data/\" + data_name + \".h5ad\")\n",
    "adata.X = adata.layers[\"counts\"]\n",
    "train_indides = np.where(adata.obs[\"train_val_test\"] == \"train\")[0]\n",
    "trainset = adata[train_indides, :].copy()\n",
    "test_indides = np.where(adata.obs[\"train_val_test\"] == \"test\")[0]\n",
    "testset = adata[test_indides, :].copy()\n",
    "modality_switch = 13431\n",
    "library = torch.cat(\n",
    "    (\n",
    "        torch.sum(\n",
    "            torch.Tensor(testset.X.todense())[:, :modality_switch], dim=-1\n",
    "        ).unsqueeze(1),\n",
    "        torch.sum(\n",
    "            torch.Tensor(testset.X.todense())[:, modality_switch:], dim=-1\n",
    "        ).unsqueeze(1),\n",
    "    ),\n",
    "    dim=1,\n",
    ")\n",
    "trainset_all = trainset.copy()\n",
    "df_subset_ids = pd.read_csv(\"../../data/\" + data_name + \"_data_subsets.csv\")\n",
    "\n",
    "subset_samples = [567, 5671, 14178, 28357, 42535, 56714]\n",
    "subset_samples.reverse()\n",
    "fraction_options = [0.01, 0.1, 0.25, 0.5, 0.75, 1.0]\n",
    "fraction_options.reverse()\n",
    "le = preprocessing.LabelEncoder()\n",
    "le.fit(trainset.obs[\"cell_type\"].values)\n",
    "\n",
    "for count, fraction in enumerate(fraction_options):\n",
    "    print(\"###\")\n",
    "    print(\"Fraction \"+str(fraction))\n",
    "    print(\"###\")\n",
    "    subset = subset_samples[count]\n",
    "    train_indices = list(\n",
    "        df_subset_ids[\n",
    "            (df_subset_ids[\"fraction\"] == fraction) & (df_subset_ids[\"include\"] == 1)\n",
    "        ][\"sample_idx\"].values\n",
    "    )\n",
    "    if fraction == 1.0:\n",
    "        # trainset, testset, modality_switch, library = load_testdata_as_anndata(data_name)\n",
    "        n_samples = len(trainset_all)\n",
    "        trainset_all.var_names_make_unique()\n",
    "        trainset_all.obs[\"modality\"] = \"paired\"\n",
    "        true_labels = le.transform(trainset_all.obs[\"cell_type\"].values)\n",
    "        scvi.model.MULTIVI.setup_anndata(trainset_all, batch_key=\"Site\")\n",
    "    else:\n",
    "        trainset = adata[train_indices].copy()\n",
    "        n_samples = len(train_indices)\n",
    "        trainset.var_names_make_unique()\n",
    "        trainset.obs[\"modality\"] = \"paired\"\n",
    "        true_labels = le.transform(trainset.obs[\"cell_type\"].values)\n",
    "        scvi.model.MULTIVI.setup_anndata(trainset, batch_key=\"Site\")\n",
    "    testset.var_names_make_unique()\n",
    "    testset.obs[\"modality\"] = \"paired\"\n",
    "    scvi.model.MULTIVI.setup_anndata(testset, batch_key=\"Site\")\n",
    "    print(\"   loaded data\")\n",
    "\n",
    "    for random_seed in [0, 37, 8790]:\n",
    "        model_name = \"l20_e2_d2_rs\" + str(random_seed) + \"_subset\" + str(subset)\n",
    "        if fraction == 1.0:\n",
    "            if random_seed == 0:\n",
    "                model_name = \"l20_e2_d2\"\n",
    "            else:\n",
    "                model_name = \"l20_e2_d2_rs\" + str(random_seed)\n",
    "\n",
    "        if fraction == 1.0:\n",
    "            model = scvi.model.MULTIVI.load(\n",
    "                save_dir + \"multiVI/\" + data_name + \"/\" + model_name, adata=trainset_all\n",
    "            )\n",
    "            trainset_all.obsm[\"latent\"] = model.get_latent_representation()\n",
    "            # ARI\n",
    "            sc.pp.neighbors(trainset_all, use_rep=\"latent\", n_neighbors=15)\n",
    "            sc.tl.leiden(\n",
    "                trainset_all, key_added=\"clusters\", resolution=1\n",
    "            )\n",
    "            cluster_labels = trainset_all.obs[\"clusters\"].values.astype(int)\n",
    "        else:\n",
    "            model = scvi.model.MULTIVI.load(\n",
    "                save_dir + \"multiVI/\" + data_name + \"/\" + model_name, adata=trainset\n",
    "            )\n",
    "            trainset.obsm[\"latent\"] = model.get_latent_representation()\n",
    "            # ARI\n",
    "            sc.pp.neighbors(trainset, use_rep=\"latent\", n_neighbors=15)\n",
    "            sc.tl.leiden(\n",
    "                trainset, key_added=\"clusters\", resolution=1\n",
    "            )\n",
    "            cluster_labels = trainset.obs[\"clusters\"].values.astype(int)\n",
    "\n",
    "        \n",
    "        radj = adjusted_rand_score(true_labels, np.asarray(cluster_labels))\n",
    "        print(\"ARI: \" + str(radj))\n",
    "        \n",
    "        metrics_temp = pd.DataFrame(\n",
    "            {\n",
    "                \"n_samples\": [n_samples],\n",
    "                \"fraction\": [fraction],\n",
    "                \"model\": [\"multiVI\"],\n",
    "                \"random_seed\": [random_seed],\n",
    "                \"ARI\": radj,\n",
    "            }\n",
    "        )\n",
    "        model = None\n",
    "        if (count == 0) & (random_seed == 0):\n",
    "            metrics_mvi = metrics_temp\n",
    "        else:\n",
    "            metrics_mvi = metrics_mvi.append(metrics_temp)\n",
    "    trainset_all = None\n",
    "    trainset = None\n",
    "\n",
    "    metrics_mvi.to_csv(\n",
    "        \"../results/revision/analysis/performance/data_efficiency_clustering_mvi_subset\"+str(subset)+\".csv\"\n",
    "    )\n",
    "\n",
    "print(\"done\")\n"
   ]
  },
  {
   "cell_type": "code",
   "execution_count": 2,
   "metadata": {},
   "outputs": [
    {
     "name": "stderr",
     "output_type": "stream",
     "text": [
      "/Users/dbm829/anaconda3/envs/multidgd-paper/lib/python3.9/site-packages/scvi/_settings.py:63: UserWarning: Since v1.0.0, scvi-tools no longer uses a random seed by default. Run `scvi.settings.seed = 0` to reproduce results from previous versions.\n",
      "  self.seed = seed\n",
      "/Users/dbm829/anaconda3/envs/multidgd-paper/lib/python3.9/site-packages/scvi/_settings.py:70: UserWarning: Setting `dl_pin_memory_gpu_training` is deprecated in v1.0 and will be removed in v1.1. Please pass in `pin_memory` to the data loaders instead.\n",
      "  self.dl_pin_memory_gpu_training = (\n",
      "/Users/dbm829/anaconda3/envs/multidgd-paper/lib/python3.9/site-packages/tqdm/auto.py:21: TqdmWarning: IProgress not found. Please update jupyter and ipywidgets. See https://ipywidgets.readthedocs.io/en/stable/user_install.html\n",
      "  from .autonotebook import tqdm as notebook_tqdm\n"
     ]
    },
    {
     "name": "stdout",
     "output_type": "stream",
     "text": [
      "###\n",
      "Fraction 0.5\n",
      "###\n",
      "   loaded data\n",
      "\u001b[34mINFO    \u001b[0m File ..\u001b[35m/results/trained_models/multiVI/human_bonemarrow/l20_e2_d2_rs0_subset28357/\u001b[0m\u001b[95mmodel.pt\u001b[0m already        \n",
      "         downloaded                                                                                                \n"
     ]
    },
    {
     "name": "stderr",
     "output_type": "stream",
     "text": [
      "/Users/dbm829/anaconda3/envs/multidgd-paper/lib/python3.9/site-packages/torch/nn/init.py:405: UserWarning: Initializing zero-element tensors is a no-op\n",
      "  warnings.warn(\"Initializing zero-element tensors is a no-op\")\n",
      "/Users/dbm829/anaconda3/envs/multidgd-paper/lib/python3.9/site-packages/umap/distances.py:1063: NumbaDeprecationWarning: \u001b[1mThe 'nopython' keyword argument was not supplied to the 'numba.jit' decorator. The implicit default value for this argument is currently False, but it will be changed to True in Numba 0.59.0. See https://numba.readthedocs.io/en/stable/reference/deprecation.html#deprecation-of-object-mode-fall-back-behaviour-when-using-jit for details.\u001b[0m\n",
      "  @numba.jit()\n",
      "/Users/dbm829/anaconda3/envs/multidgd-paper/lib/python3.9/site-packages/umap/distances.py:1071: NumbaDeprecationWarning: \u001b[1mThe 'nopython' keyword argument was not supplied to the 'numba.jit' decorator. The implicit default value for this argument is currently False, but it will be changed to True in Numba 0.59.0. See https://numba.readthedocs.io/en/stable/reference/deprecation.html#deprecation-of-object-mode-fall-back-behaviour-when-using-jit for details.\u001b[0m\n",
      "  @numba.jit()\n",
      "/Users/dbm829/anaconda3/envs/multidgd-paper/lib/python3.9/site-packages/umap/distances.py:1086: NumbaDeprecationWarning: \u001b[1mThe 'nopython' keyword argument was not supplied to the 'numba.jit' decorator. The implicit default value for this argument is currently False, but it will be changed to True in Numba 0.59.0. See https://numba.readthedocs.io/en/stable/reference/deprecation.html#deprecation-of-object-mode-fall-back-behaviour-when-using-jit for details.\u001b[0m\n",
      "  @numba.jit()\n",
      "/Users/dbm829/anaconda3/envs/multidgd-paper/lib/python3.9/site-packages/umap/umap_.py:660: NumbaDeprecationWarning: \u001b[1mThe 'nopython' keyword argument was not supplied to the 'numba.jit' decorator. The implicit default value for this argument is currently False, but it will be changed to True in Numba 0.59.0. See https://numba.readthedocs.io/en/stable/reference/deprecation.html#deprecation-of-object-mode-fall-back-behaviour-when-using-jit for details.\u001b[0m\n",
      "  @numba.jit()\n"
     ]
    },
    {
     "name": "stdout",
     "output_type": "stream",
     "text": [
      "ARI: 0.571715006656332\n",
      "\u001b[34mINFO    \u001b[0m File ..\u001b[35m/results/trained_models/multiVI/human_bonemarrow/l20_e2_d2_rs37_subset28357/\u001b[0m\u001b[95mmodel.pt\u001b[0m already       \n",
      "         downloaded                                                                                                \n"
     ]
    },
    {
     "name": "stderr",
     "output_type": "stream",
     "text": [
      "/Users/dbm829/anaconda3/envs/multidgd-paper/lib/python3.9/site-packages/torch/nn/init.py:405: UserWarning: Initializing zero-element tensors is a no-op\n",
      "  warnings.warn(\"Initializing zero-element tensors is a no-op\")\n"
     ]
    },
    {
     "name": "stdout",
     "output_type": "stream",
     "text": [
      "ARI: 0.5533626713264825\n",
      "\u001b[34mINFO    \u001b[0m File ..\u001b[35m/results/trained_models/multiVI/human_bonemarrow/l20_e2_d2_rs8790_subset28357/\u001b[0m\u001b[95mmodel.pt\u001b[0m already     \n",
      "         downloaded                                                                                                \n"
     ]
    },
    {
     "name": "stderr",
     "output_type": "stream",
     "text": [
      "/var/folders/tp/pr1hfl8527z35j1791t_j9bc0000gn/T/ipykernel_63197/2730434865.py:101: FutureWarning: The frame.append method is deprecated and will be removed from pandas in a future version. Use pandas.concat instead.\n",
      "  metrics_mvi = metrics_mvi.append(metrics_temp)\n",
      "/Users/dbm829/anaconda3/envs/multidgd-paper/lib/python3.9/site-packages/torch/nn/init.py:405: UserWarning: Initializing zero-element tensors is a no-op\n",
      "  warnings.warn(\"Initializing zero-element tensors is a no-op\")\n"
     ]
    },
    {
     "name": "stdout",
     "output_type": "stream",
     "text": [
      "ARI: 0.5370041285954777\n",
      "###\n",
      "Fraction 0.25\n",
      "###\n"
     ]
    },
    {
     "name": "stderr",
     "output_type": "stream",
     "text": [
      "/var/folders/tp/pr1hfl8527z35j1791t_j9bc0000gn/T/ipykernel_63197/2730434865.py:101: FutureWarning: The frame.append method is deprecated and will be removed from pandas in a future version. Use pandas.concat instead.\n",
      "  metrics_mvi = metrics_mvi.append(metrics_temp)\n"
     ]
    },
    {
     "name": "stdout",
     "output_type": "stream",
     "text": [
      "   loaded data\n",
      "\u001b[34mINFO    \u001b[0m File ..\u001b[35m/results/trained_models/multiVI/human_bonemarrow/l20_e2_d2_rs0_subset14178/\u001b[0m\u001b[95mmodel.pt\u001b[0m already        \n",
      "         downloaded                                                                                                \n"
     ]
    },
    {
     "name": "stderr",
     "output_type": "stream",
     "text": [
      "/Users/dbm829/anaconda3/envs/multidgd-paper/lib/python3.9/site-packages/torch/nn/init.py:405: UserWarning: Initializing zero-element tensors is a no-op\n",
      "  warnings.warn(\"Initializing zero-element tensors is a no-op\")\n"
     ]
    },
    {
     "name": "stdout",
     "output_type": "stream",
     "text": [
      "ARI: 0.529077980411369\n",
      "\u001b[34mINFO    \u001b[0m File ..\u001b[35m/results/trained_models/multiVI/human_bonemarrow/l20_e2_d2_rs37_subset14178/\u001b[0m\u001b[95mmodel.pt\u001b[0m already       \n",
      "         downloaded                                                                                                \n"
     ]
    },
    {
     "name": "stderr",
     "output_type": "stream",
     "text": [
      "/Users/dbm829/anaconda3/envs/multidgd-paper/lib/python3.9/site-packages/torch/nn/init.py:405: UserWarning: Initializing zero-element tensors is a no-op\n",
      "  warnings.warn(\"Initializing zero-element tensors is a no-op\")\n"
     ]
    },
    {
     "name": "stdout",
     "output_type": "stream",
     "text": [
      "ARI: 0.5492211960155111\n",
      "\u001b[34mINFO    \u001b[0m File ..\u001b[35m/results/trained_models/multiVI/human_bonemarrow/l20_e2_d2_rs8790_subset14178/\u001b[0m\u001b[95mmodel.pt\u001b[0m already     \n",
      "         downloaded                                                                                                \n"
     ]
    },
    {
     "name": "stderr",
     "output_type": "stream",
     "text": [
      "/var/folders/tp/pr1hfl8527z35j1791t_j9bc0000gn/T/ipykernel_63197/2730434865.py:101: FutureWarning: The frame.append method is deprecated and will be removed from pandas in a future version. Use pandas.concat instead.\n",
      "  metrics_mvi = metrics_mvi.append(metrics_temp)\n",
      "/Users/dbm829/anaconda3/envs/multidgd-paper/lib/python3.9/site-packages/torch/nn/init.py:405: UserWarning: Initializing zero-element tensors is a no-op\n",
      "  warnings.warn(\"Initializing zero-element tensors is a no-op\")\n"
     ]
    },
    {
     "name": "stdout",
     "output_type": "stream",
     "text": [
      "ARI: 0.5693587123313539\n",
      "###\n",
      "Fraction 0.1\n",
      "###\n"
     ]
    },
    {
     "name": "stderr",
     "output_type": "stream",
     "text": [
      "/var/folders/tp/pr1hfl8527z35j1791t_j9bc0000gn/T/ipykernel_63197/2730434865.py:101: FutureWarning: The frame.append method is deprecated and will be removed from pandas in a future version. Use pandas.concat instead.\n",
      "  metrics_mvi = metrics_mvi.append(metrics_temp)\n"
     ]
    },
    {
     "name": "stdout",
     "output_type": "stream",
     "text": [
      "   loaded data\n",
      "\u001b[34mINFO    \u001b[0m File ..\u001b[35m/results/trained_models/multiVI/human_bonemarrow/l20_e2_d2_rs0_subset5671/\u001b[0m\u001b[95mmodel.pt\u001b[0m already         \n",
      "         downloaded                                                                                                \n"
     ]
    },
    {
     "name": "stderr",
     "output_type": "stream",
     "text": [
      "/Users/dbm829/anaconda3/envs/multidgd-paper/lib/python3.9/site-packages/torch/nn/init.py:405: UserWarning: Initializing zero-element tensors is a no-op\n",
      "  warnings.warn(\"Initializing zero-element tensors is a no-op\")\n"
     ]
    },
    {
     "name": "stdout",
     "output_type": "stream",
     "text": [
      "ARI: 0.4909848469297707\n",
      "\u001b[34mINFO    \u001b[0m File ..\u001b[35m/results/trained_models/multiVI/human_bonemarrow/l20_e2_d2_rs37_subset5671/\u001b[0m\u001b[95mmodel.pt\u001b[0m already        \n",
      "         downloaded                                                                                                \n"
     ]
    },
    {
     "name": "stderr",
     "output_type": "stream",
     "text": [
      "/Users/dbm829/anaconda3/envs/multidgd-paper/lib/python3.9/site-packages/torch/nn/init.py:405: UserWarning: Initializing zero-element tensors is a no-op\n",
      "  warnings.warn(\"Initializing zero-element tensors is a no-op\")\n"
     ]
    },
    {
     "name": "stdout",
     "output_type": "stream",
     "text": [
      "ARI: 0.5036115311799624\n",
      "\u001b[34mINFO    \u001b[0m File ..\u001b[35m/results/trained_models/multiVI/human_bonemarrow/l20_e2_d2_rs8790_subset5671/\u001b[0m\u001b[95mmodel.pt\u001b[0m already      \n",
      "         downloaded                                                                                                \n"
     ]
    },
    {
     "name": "stderr",
     "output_type": "stream",
     "text": [
      "/var/folders/tp/pr1hfl8527z35j1791t_j9bc0000gn/T/ipykernel_63197/2730434865.py:101: FutureWarning: The frame.append method is deprecated and will be removed from pandas in a future version. Use pandas.concat instead.\n",
      "  metrics_mvi = metrics_mvi.append(metrics_temp)\n",
      "/Users/dbm829/anaconda3/envs/multidgd-paper/lib/python3.9/site-packages/torch/nn/init.py:405: UserWarning: Initializing zero-element tensors is a no-op\n",
      "  warnings.warn(\"Initializing zero-element tensors is a no-op\")\n"
     ]
    },
    {
     "name": "stdout",
     "output_type": "stream",
     "text": [
      "ARI: 0.5348804558137091\n",
      "###\n",
      "Fraction 0.01\n",
      "###\n"
     ]
    },
    {
     "name": "stderr",
     "output_type": "stream",
     "text": [
      "/var/folders/tp/pr1hfl8527z35j1791t_j9bc0000gn/T/ipykernel_63197/2730434865.py:101: FutureWarning: The frame.append method is deprecated and will be removed from pandas in a future version. Use pandas.concat instead.\n",
      "  metrics_mvi = metrics_mvi.append(metrics_temp)\n"
     ]
    },
    {
     "name": "stdout",
     "output_type": "stream",
     "text": [
      "   loaded data\n",
      "\u001b[34mINFO    \u001b[0m File ..\u001b[35m/results/trained_models/multiVI/human_bonemarrow/l20_e2_d2_rs0_subset567/\u001b[0m\u001b[95mmodel.pt\u001b[0m already          \n",
      "         downloaded                                                                                                \n"
     ]
    },
    {
     "name": "stderr",
     "output_type": "stream",
     "text": [
      "/Users/dbm829/anaconda3/envs/multidgd-paper/lib/python3.9/site-packages/torch/nn/init.py:405: UserWarning: Initializing zero-element tensors is a no-op\n",
      "  warnings.warn(\"Initializing zero-element tensors is a no-op\")\n"
     ]
    },
    {
     "name": "stdout",
     "output_type": "stream",
     "text": [
      "ARI: 0.3465503790037402\n",
      "\u001b[34mINFO    \u001b[0m File ..\u001b[35m/results/trained_models/multiVI/human_bonemarrow/l20_e2_d2_rs37_subset567/\u001b[0m\u001b[95mmodel.pt\u001b[0m already         \n",
      "         downloaded                                                                                                \n"
     ]
    },
    {
     "name": "stderr",
     "output_type": "stream",
     "text": [
      "/Users/dbm829/anaconda3/envs/multidgd-paper/lib/python3.9/site-packages/torch/nn/init.py:405: UserWarning: Initializing zero-element tensors is a no-op\n",
      "  warnings.warn(\"Initializing zero-element tensors is a no-op\")\n"
     ]
    },
    {
     "name": "stdout",
     "output_type": "stream",
     "text": [
      "ARI: 0.3529342164393157\n",
      "\u001b[34mINFO    \u001b[0m File ..\u001b[35m/results/trained_models/multiVI/human_bonemarrow/l20_e2_d2_rs8790_subset567/\u001b[0m\u001b[95mmodel.pt\u001b[0m already       \n",
      "         downloaded                                                                                                \n"
     ]
    },
    {
     "name": "stderr",
     "output_type": "stream",
     "text": [
      "/var/folders/tp/pr1hfl8527z35j1791t_j9bc0000gn/T/ipykernel_63197/2730434865.py:101: FutureWarning: The frame.append method is deprecated and will be removed from pandas in a future version. Use pandas.concat instead.\n",
      "  metrics_mvi = metrics_mvi.append(metrics_temp)\n",
      "/Users/dbm829/anaconda3/envs/multidgd-paper/lib/python3.9/site-packages/torch/nn/init.py:405: UserWarning: Initializing zero-element tensors is a no-op\n",
      "  warnings.warn(\"Initializing zero-element tensors is a no-op\")\n"
     ]
    },
    {
     "name": "stdout",
     "output_type": "stream",
     "text": [
      "ARI: 0.365125794297447\n",
      "done\n"
     ]
    },
    {
     "name": "stderr",
     "output_type": "stream",
     "text": [
      "/var/folders/tp/pr1hfl8527z35j1791t_j9bc0000gn/T/ipykernel_63197/2730434865.py:101: FutureWarning: The frame.append method is deprecated and will be removed from pandas in a future version. Use pandas.concat instead.\n",
      "  metrics_mvi = metrics_mvi.append(metrics_temp)\n"
     ]
    }
   ],
   "source": [
    "import scvi\n",
    "import scanpy as sc\n",
    "import torch\n",
    "import numpy as np\n",
    "import pandas as pd\n",
    "import anndata as ad\n",
    "from sklearn import preprocessing\n",
    "from sklearn.metrics import adjusted_rand_score\n",
    "\n",
    "save_dir = \"../results/trained_models/\"\n",
    "data_name = \"human_bonemarrow\"\n",
    "\n",
    "\"\"\"\n",
    "Go through datasets and chosen models and compute reconstruction performances\n",
    "\"\"\"\n",
    "data_name = \"human_bonemarrow\"\n",
    "adata = ad.read_h5ad(\"../../data/\" + data_name + \".h5ad\")\n",
    "adata.X = adata.layers[\"counts\"]\n",
    "train_indides = np.where(adata.obs[\"train_val_test\"] == \"train\")[0]\n",
    "trainset = adata[train_indides, :].copy()\n",
    "test_indides = np.where(adata.obs[\"train_val_test\"] == \"test\")[0]\n",
    "testset = adata[test_indides, :].copy()\n",
    "modality_switch = 13431\n",
    "library = torch.cat(\n",
    "    (\n",
    "        torch.sum(\n",
    "            torch.Tensor(testset.X.todense())[:, :modality_switch], dim=-1\n",
    "        ).unsqueeze(1),\n",
    "        torch.sum(\n",
    "            torch.Tensor(testset.X.todense())[:, modality_switch:], dim=-1\n",
    "        ).unsqueeze(1),\n",
    "    ),\n",
    "    dim=1,\n",
    ")\n",
    "df_subset_ids = pd.read_csv(\"../../data/\" + data_name + \"_data_subsets.csv\")\n",
    "\n",
    "subset_samples = [567, 5671, 14178, 28357]\n",
    "subset_samples.reverse()\n",
    "fraction_options = [0.01, 0.1, 0.25, 0.5]\n",
    "fraction_options.reverse()\n",
    "le = preprocessing.LabelEncoder()\n",
    "le.fit(trainset.obs[\"cell_type\"].values)\n",
    "\n",
    "for count, fraction in enumerate(fraction_options):\n",
    "    print(\"###\")\n",
    "    print(\"Fraction \"+str(fraction))\n",
    "    print(\"###\")\n",
    "    subset = subset_samples[count]\n",
    "    train_indices = list(\n",
    "        df_subset_ids[\n",
    "            (df_subset_ids[\"fraction\"] == fraction) & (df_subset_ids[\"include\"] == 1)\n",
    "        ][\"sample_idx\"].values\n",
    "    )\n",
    "    trainset = adata[train_indices].copy()\n",
    "    n_samples = len(train_indices)\n",
    "    trainset.var_names_make_unique()\n",
    "    trainset.obs[\"modality\"] = \"paired\"\n",
    "    true_labels = le.transform(trainset.obs[\"cell_type\"].values)\n",
    "    scvi.model.MULTIVI.setup_anndata(trainset, batch_key=\"Site\")\n",
    "    testset.var_names_make_unique()\n",
    "    testset.obs[\"modality\"] = \"paired\"\n",
    "    scvi.model.MULTIVI.setup_anndata(testset, batch_key=\"Site\")\n",
    "    print(\"   loaded data\")\n",
    "\n",
    "    for random_seed in [0, 37, 8790]:\n",
    "        model_name = \"l20_e2_d2_rs\" + str(random_seed) + \"_subset\" + str(subset)\n",
    "        if fraction == 1.0:\n",
    "            if random_seed == 0:\n",
    "                model_name = \"l20_e2_d2\"\n",
    "            else:\n",
    "                model_name = \"l20_e2_d2_rs\" + str(random_seed)\n",
    "        \n",
    "        model = scvi.model.MULTIVI.load(\n",
    "            save_dir + \"multiVI/\" + data_name + \"/\" + model_name, adata=trainset\n",
    "        )\n",
    "        trainset.obsm[\"latent\"] = model.get_latent_representation()\n",
    "        # ARI\n",
    "        sc.pp.neighbors(trainset, use_rep=\"latent\", n_neighbors=15)\n",
    "        sc.tl.leiden(\n",
    "            trainset, key_added=\"clusters\", resolution=1\n",
    "        )\n",
    "        cluster_labels = trainset.obs[\"clusters\"].values.astype(int)\n",
    "\n",
    "        \n",
    "        radj = adjusted_rand_score(true_labels, np.asarray(cluster_labels))\n",
    "        print(\"ARI: \" + str(radj))\n",
    "        \n",
    "        metrics_temp = pd.DataFrame(\n",
    "            {\n",
    "                \"n_samples\": [n_samples],\n",
    "                \"fraction\": [fraction],\n",
    "                \"model\": [\"multiVI\"],\n",
    "                \"random_seed\": [random_seed],\n",
    "                \"ARI\": radj,\n",
    "            }\n",
    "        )\n",
    "        model = None\n",
    "        if random_seed == 0:\n",
    "            metrics_mvi = metrics_temp\n",
    "        else:\n",
    "            metrics_mvi = metrics_mvi.append(metrics_temp)\n",
    "    trainset_all = None\n",
    "    trainset = None\n",
    "\n",
    "    metrics_mvi.to_csv(\n",
    "        \"../results/revision/analysis/performance/data_efficiency_clustering_mvi_subset\"+str(subset)+\".csv\"\n",
    "    )\n",
    "\n",
    "print(\"done\")\n"
   ]
  },
  {
   "cell_type": "markdown",
   "metadata": {},
   "source": [
    "### plot clustering performance over training set size"
   ]
  },
  {
   "cell_type": "code",
   "execution_count": 15,
   "metadata": {},
   "outputs": [
    {
     "name": "stdout",
     "output_type": "stream",
     "text": [
      "        ARI  Number of cells    Model\n",
      "0  0.346550              567  MultiVI\n",
      "1  0.352934              567  MultiVI\n",
      "2  0.365126              567  MultiVI\n",
      "0  0.490985             5671  MultiVI\n",
      "1  0.503612             5671  MultiVI\n",
      "2  0.534880             5671  MultiVI\n",
      "0  0.529078            14178  MultiVI\n",
      "1  0.549221            14178  MultiVI\n",
      "2  0.569359            14178  MultiVI\n",
      "0  0.571715            28357  MultiVI\n",
      "1  0.553363            28357  MultiVI\n",
      "2  0.537004            28357  MultiVI\n",
      "3  0.534119            42535  MultiVI\n",
      "4  0.543515            42535  MultiVI\n",
      "5  0.541534            42535  MultiVI\n",
      "0  0.540232            56714  MultiVI\n",
      "1  0.547729            56714  MultiVI\n",
      "2  0.535297            56714  MultiVI\n"
     ]
    }
   ],
   "source": [
    "# for every subset, load the mvi clustering dataframes\n",
    "\n",
    "subset_samples = [567, 5671, 14178, 28357, 42535, 56714]\n",
    "for subset in subset_samples:\n",
    "    df = pd.read_csv(\n",
    "        \"../results/revision/analysis/performance/data_efficiency_clustering_mvi_subset\"\n",
    "        + str(subset)\n",
    "        + \".csv\"\n",
    "    )\n",
    "    df = df.drop(columns=[\"Unnamed: 0\"])\n",
    "    df[\"Number of cells\"] = df[\"n_samples\"]\n",
    "    df = df.drop(columns=[\"n_samples\"])\n",
    "    df[\"Subset size\"] = subset\n",
    "    if subset == 567:\n",
    "        df_mvi = df\n",
    "    else:\n",
    "        if subset == 42535:\n",
    "            # drop the accidental subset 56714\n",
    "            df = df[df[\"Number of cells\"] != 56714]\n",
    "        df_mvi = pd.concat([df_mvi, df])\n",
    "\n",
    "# drop everything except ARI and Number of cells\n",
    "df_mvi = df_mvi[[\"ARI\", \"Number of cells\"]]\n",
    "df_mvi[\"Model\"] = \"MultiVI\"\n",
    "print(df_mvi)"
   ]
  },
  {
   "cell_type": "code",
   "execution_count": 16,
   "metadata": {},
   "outputs": [
    {
     "name": "stdout",
     "output_type": "stream",
     "text": [
      "         ARI  Number of cells     Model\n",
      "0   0.654657            42535  multiDGD\n",
      "1   0.659651            42535  multiDGD\n",
      "2   0.651396            28357  multiDGD\n",
      "3   0.635885            28357  multiDGD\n",
      "4   0.635487            14178  multiDGD\n",
      "5   0.635007            14178  multiDGD\n",
      "6   0.509691             5671  multiDGD\n",
      "7   0.511926             5671  multiDGD\n",
      "11  0.491517              567  multiDGD\n",
      "12  0.659651            42535  multiDGD\n",
      "13  0.640015            42535  multiDGD\n",
      "14  0.570626            28357  multiDGD\n",
      "15  0.587055            14178  multiDGD\n",
      "16  0.417386             5671  multiDGD\n",
      "17  0.427427              567  multiDGD\n",
      "18  0.569867            56714  multiDGD\n",
      "19  0.641487            56714  multiDGD\n",
      "20  0.647253            56714  multiDGD\n"
     ]
    }
   ],
   "source": [
    "# read in the csv file \"wandb_subset_ARIs.csv\"\n",
    "\n",
    "df = pd.read_csv(result_dir + \"performance/wandb_subset_ARIs.csv\", sep=\",\")\n",
    "# remove rows 8-10\n",
    "df = df.drop([8, 9, 10])\n",
    "\n",
    "# make a column for the number of cells (these are given in the last part of the run name after \"subset\")\n",
    "df[\"last_name\"] = [x.split(\"_\")[-1] for x in df[\"Name\"]]\n",
    "# if subset is not the first part of the last name, then the number of cells is 56714\n",
    "df[\"n_cells\"] = [x[6:] if \"subset\" in x else 56714 for x in df[\"last_name\"]]\n",
    "df[\"n_cells\"] = df[\"n_cells\"].astype(int)\n",
    "\n",
    "# remove columns Name and Index\n",
    "df = df.drop(columns=[\"Name\", \"Index\", \"_wandb\", \"last_name\"])\n",
    "# rename columns\n",
    "df = df.rename(columns={\"AdjustedRandIndex_fromMetaLabel\": \"ARI\", \"n_cells\": \"Number of cells\"})\n",
    "\n",
    "df[\"Model\"] = \"multiDGD\"\n",
    "\n",
    "print(df)"
   ]
  },
  {
   "cell_type": "code",
   "execution_count": 26,
   "metadata": {},
   "outputs": [
    {
     "data": {
      "image/png": "[encoded data removed]",
      "text/plain": [
       "<Figure size 314.961x236.22 with 2 Axes>"
      ]
     },
     "metadata": {},
     "output_type": "display_data"
    }
   ],
   "source": [
    "# combine the dataframes\n",
    "\n",
    "df2 = pd.concat([df_mvi, df])\n",
    "df2[\"fraction\"] = ((df2[\"Number of cells\"] / 56714 * 100) + 1).astype(int)\n",
    "# change 101 to 100\n",
    "df2[\"fraction\"] = df2[\"fraction\"].replace(101, 100)\n",
    "\n",
    "# plot the ARI over number of cells\n",
    "\n",
    "pointplot_scale = 0.5\n",
    "pointplot_errwidth = 0.7\n",
    "pointplot_capsize = 0.2\n",
    "palette_2colrs = [\"#DAA327\", \"#015799\"]\n",
    "\n",
    "fig, ax = plt.subplots(figsize=(8 * cm, 6 * cm))\n",
    "sns.pointplot(\n",
    "    x=\"fraction\",\n",
    "    y=\"ARI\",\n",
    "    data=df2,\n",
    "    ax=ax,\n",
    "    hue=\"Model\",\n",
    "    linestyles=\"\",\n",
    "    scale=pointplot_scale,\n",
    "    errwidth=pointplot_errwidth,\n",
    "    capsize=pointplot_capsize,\n",
    "    palette=palette_2colrs,\n",
    "    errorbar=\"se\"\n",
    ")\n",
    "\n",
    "def percent_to_n(x):\n",
    "    print(x)\n",
    "    print(type(x))\n",
    "    return int(x * 0.01 * 56714)\n",
    "def n_to_percent(x):\n",
    "    return int(x / 56714 * 100)\n",
    "#secax = ax_list[-1].secondary_xaxis('top', functions=(percent_to_n, n_to_percent))\n",
    "#secax.set_xlabel('Number of training samples')\n",
    "ax2 = ax.twiny()\n",
    "sns.pointplot(\n",
    "    x=\"Number of cells\",\n",
    "    y=\"ARI\",\n",
    "    data=df2,\n",
    "    ax=ax2,\n",
    "    hue=\"Model\",\n",
    "    linestyles=\"\",\n",
    "    scale=pointplot_scale,\n",
    "    errwidth=pointplot_errwidth,\n",
    "    capsize=pointplot_capsize,\n",
    "    palette=palette_2colrs,\n",
    "    errorbar=\"se\"\n",
    ")\n",
    "ax2.legend_.remove()\n",
    "ax.legend(bbox_to_anchor=(1.0, 1.05),\n",
    "                   loc='upper left', frameon=False,title='model',\n",
    "                   markerscale=handlesize*3,\n",
    "                   handletextpad=handletextpad*2)#.set_visible(False)\n",
    "#ax_list[-1].text(30, 1.01, 'placeholder', fontdict={'color': 'red'})\n",
    "ax.set_xlabel('Percentage of training set')\n",
    "ax2.set_xlabel('Number of training samples')\n",
    "ax.set_ylim(0, 1)\n",
    "\n",
    "# save this figure\n",
    "fig.savefig(plot_dir + \"data_efficiency_clustering_mvi_multiDGD.png\", dpi=300, bbox_inches=\"tight\")"
   ]
  }
 ],
 "metadata": {
  "kernelspec": {
   "display_name": "multidgd-paper",
   "language": "python",
   "name": "python3"
  },
  "language_info": {
   "codemirror_mode": {
    "name": "ipython",
    "version": 3
   },
   "file_extension": ".py",
   "mimetype": "text/x-python",
   "name": "python",
   "nbconvert_exporter": "python",
   "pygments_lexer": "ipython3",
   "version": "3.9.6"
  }
 },
 "nbformat": 4,
 "nbformat_minor": 2
}
