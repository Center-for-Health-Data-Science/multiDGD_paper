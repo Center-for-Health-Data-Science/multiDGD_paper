{
 "cells": [
  {
   "cell_type": "code",
   "execution_count": 1,
   "metadata": {},
   "outputs": [
    {
     "name": "stderr",
     "output_type": "stream",
     "text": [
      "/Users/dbm829/anaconda3/envs/multidgd-paper/lib/python3.9/site-packages/umap/distances.py:1063: NumbaDeprecationWarning: \u001b[1mThe 'nopython' keyword argument was not supplied to the 'numba.jit' decorator. The implicit default value for this argument is currently False, but it will be changed to True in Numba 0.59.0. See https://numba.readthedocs.io/en/stable/reference/deprecation.html#deprecation-of-object-mode-fall-back-behaviour-when-using-jit for details.\u001b[0m\n",
      "  @numba.jit()\n",
      "/Users/dbm829/anaconda3/envs/multidgd-paper/lib/python3.9/site-packages/umap/distances.py:1071: NumbaDeprecationWarning: \u001b[1mThe 'nopython' keyword argument was not supplied to the 'numba.jit' decorator. The implicit default value for this argument is currently False, but it will be changed to True in Numba 0.59.0. See https://numba.readthedocs.io/en/stable/reference/deprecation.html#deprecation-of-object-mode-fall-back-behaviour-when-using-jit for details.\u001b[0m\n",
      "  @numba.jit()\n",
      "/Users/dbm829/anaconda3/envs/multidgd-paper/lib/python3.9/site-packages/umap/distances.py:1086: NumbaDeprecationWarning: \u001b[1mThe 'nopython' keyword argument was not supplied to the 'numba.jit' decorator. The implicit default value for this argument is currently False, but it will be changed to True in Numba 0.59.0. See https://numba.readthedocs.io/en/stable/reference/deprecation.html#deprecation-of-object-mode-fall-back-behaviour-when-using-jit for details.\u001b[0m\n",
      "  @numba.jit()\n",
      "/Users/dbm829/anaconda3/envs/multidgd-paper/lib/python3.9/site-packages/tqdm/auto.py:21: TqdmWarning: IProgress not found. Please update jupyter and ipywidgets. See https://ipywidgets.readthedocs.io/en/stable/user_install.html\n",
      "  from .autonotebook import tqdm as notebook_tqdm\n",
      "/Users/dbm829/anaconda3/envs/multidgd-paper/lib/python3.9/site-packages/umap/umap_.py:660: NumbaDeprecationWarning: \u001b[1mThe 'nopython' keyword argument was not supplied to the 'numba.jit' decorator. The implicit default value for this argument is currently False, but it will be changed to True in Numba 0.59.0. See https://numba.readthedocs.io/en/stable/reference/deprecation.html#deprecation-of-object-mode-fall-back-behaviour-when-using-jit for details.\u001b[0m\n",
      "  @numba.jit()\n"
     ]
    }
   ],
   "source": [
    "# imports\n",
    "import os\n",
    "import pandas as pd\n",
    "import numpy as np\n",
    "import matplotlib.pyplot as plt\n",
    "import seaborn as sns\n",
    "import umap\n",
    "import matplotlib.gridspec as gridspec\n",
    "#from sklearn.metrics import silhouette_score\n",
    "\n",
    "result_dir = \"../results/revision/analysis/\"\n",
    "plot_dir = \"../results/revision/plots/\"\n",
    "\n",
    "cm = 1 / 2.54"
   ]
  },
  {
   "cell_type": "markdown",
   "metadata": {},
   "source": [
    "## make predictions (multiDGD)"
   ]
  },
  {
   "cell_type": "code",
   "execution_count": 2,
   "metadata": {},
   "outputs": [
    {
     "name": "stderr",
     "output_type": "stream",
     "text": [
      "/Users/dbm829/anaconda3/envs/multidgd-paper/lib/python3.9/site-packages/scvi/_settings.py:63: UserWarning: Since v1.0.0, scvi-tools no longer uses a random seed by default. Run `scvi.settings.seed = 0` to reproduce results from previous versions.\n",
      "  self.seed = seed\n",
      "/Users/dbm829/anaconda3/envs/multidgd-paper/lib/python3.9/site-packages/scvi/_settings.py:70: UserWarning: Setting `dl_pin_memory_gpu_training` is deprecated in v1.0 and will be removed in v1.1. Please pass in `pin_memory` to the data loaders instead.\n",
      "  self.dl_pin_memory_gpu_training = (\n"
     ]
    }
   ],
   "source": [
    "import scvi\n",
    "import torch\n",
    "import pandas as pd\n",
    "import anndata as ad\n",
    "import numpy as np\n",
    "from omicsdgd import DGD\n",
    "\n",
    "save_dir = \"../results/trained_models/\"\n",
    "data_name = \"human_bonemarrow\"\n",
    "# in this dictionary we will have the fractions and the corresponding number of samples in the train set\n",
    "fraction_dict = {0.01: 567, 0.1: 5671, 0.25: 14178, 0.5: 28357, 0.75: 42535, 1.0: 56714}\n",
    "\n",
    "\"\"\"\n",
    "Go through datasets and chosen models and compute reconstruction performances\n",
    "\"\"\"\n",
    "data_name = \"human_bonemarrow\"\n",
    "adata = ad.read_h5ad(\"../../data/\" + data_name + \".h5ad\")\n",
    "adata.X = adata.layers[\"counts\"]"
   ]
  },
  {
   "cell_type": "code",
   "execution_count": 3,
   "metadata": {},
   "outputs": [],
   "source": [
    "train_indides = np.where(adata.obs[\"train_val_test\"] == \"train\")[0]\n",
    "trainset = adata[train_indides, :].copy()\n",
    "test_indides = np.where(adata.obs[\"train_val_test\"] == \"test\")[0]\n",
    "testset = adata[test_indides, :].copy()\n",
    "modality_switch = 13431\n",
    "library = torch.cat(\n",
    "    (\n",
    "        torch.sum(\n",
    "            torch.Tensor(testset.X.todense())[:, :modality_switch], dim=-1\n",
    "        ).unsqueeze(1),\n",
    "        torch.sum(\n",
    "            torch.Tensor(testset.X.todense())[:, modality_switch:], dim=-1\n",
    "        ).unsqueeze(1),\n",
    "    ),\n",
    "    dim=1,\n",
    ")\n",
    "#trainset_all = trainset.copy()\n",
    "df_subset_ids = pd.read_csv(\"../../data/\" + data_name + \"_data_subsets.csv\")\n",
    "\n",
    "fraction = 0.01\n",
    "subset = fraction_dict[fraction]\n",
    "\n",
    "train_indices = list(\n",
    "    df_subset_ids[\n",
    "        (df_subset_ids[\"fraction\"] == fraction)\n",
    "        & (df_subset_ids[\"include\"] == 1)\n",
    "    ][\"sample_idx\"].values\n",
    ")\n",
    "trainset_small = adata[train_indices].copy()\n",
    "adata = None"
   ]
  },
  {
   "cell_type": "code",
   "execution_count": 5,
   "metadata": {},
   "outputs": [
    {
     "name": "stdout",
     "output_type": "stream",
     "text": [
      "CUDA Available: False\n",
      "Number of GPUs: 0\n",
      "using device:  cpu\n",
      "\n",
      "        Gaussian_mix_compture:\n",
      "            Dimensionality: 2\n",
      "            Number of components: 4\n",
      "        \n",
      "printing all checkpoint keys containing 'correction'\n",
      "correction_gmm.mean\n",
      "correction_gmm.neglogvar\n",
      "correction_gmm.weight\n",
      "correction_rep.z\n",
      "correction_val_rep.z\n",
      "correction_test_rep.z\n",
      "#######################\n",
      "Training status\n",
      "#######################\n",
      "True\n"
     ]
    }
   ],
   "source": [
    "model_name = \"human_bonemarrow_l20_h2-3\"\n",
    "\n",
    "from omicsdgd import DGD\n",
    "model = DGD.load(\n",
    "    data=trainset, save_dir=save_dir + data_name + \"/\", model_name=model_name\n",
    ")"
   ]
  },
  {
   "cell_type": "code",
   "execution_count": 7,
   "metadata": {},
   "outputs": [
    {
     "data": {
      "text/plain": [
       "Parameter containing:\n",
       "tensor([[-0.0307, -0.0154, -0.0355,  ...,  0.0658,  0.0442,  0.0972],\n",
       "        [ 0.0926,  0.0370, -0.0463,  ..., -0.1100, -0.0548, -0.0826],\n",
       "        [ 0.0193, -0.0454,  0.0332,  ..., -0.0366, -0.0882,  0.0588],\n",
       "        ...,\n",
       "        [ 0.1045,  0.0554, -0.0672,  ..., -0.1037, -0.0881, -0.0780],\n",
       "        [-0.0563,  0.1882, -0.1956,  ...,  0.0342, -0.0424, -0.0170],\n",
       "        [ 0.0659, -0.0069,  0.0114,  ..., -0.0932, -0.1377, -0.0272]],\n",
       "       requires_grad=True)"
      ]
     },
     "execution_count": 7,
     "metadata": {},
     "output_type": "execute_result"
    }
   ],
   "source": [
    "model.test_rep.z"
   ]
  },
  {
   "cell_type": "code",
   "execution_count": 8,
   "metadata": {},
   "outputs": [],
   "source": [
    "predictions = model.predict_from_representation(\n",
    "    model.test_rep, model.correction_test_rep\n",
    ")"
   ]
  },
  {
   "cell_type": "code",
   "execution_count": 12,
   "metadata": {},
   "outputs": [],
   "source": [
    "predictions[0] *= library[:, 0].unsqueeze(1)\n",
    "predictions[1] *= library[:, 1].unsqueeze(1)"
   ]
  },
  {
   "cell_type": "code",
   "execution_count": 17,
   "metadata": {},
   "outputs": [],
   "source": [
    "trainset = None\n",
    "model = None"
   ]
  },
  {
   "cell_type": "code",
   "execution_count": 24,
   "metadata": {},
   "outputs": [],
   "source": [
    "# save these predictions as numpy\n",
    "np.save(\n",
    "    result_dir + \"performance/\" + model_name + \"_test_predictions_RNA.npy\",\n",
    "    predictions[0][::10].detach().numpy(),\n",
    ")\n",
    "np.save(\n",
    "    result_dir + \"performance/\" + model_name + \"_test_predictions_ATAC.npy\",\n",
    "    predictions[1][::100].detach().numpy(),\n",
    ")"
   ]
  },
  {
   "cell_type": "code",
   "execution_count": 3,
   "metadata": {},
   "outputs": [],
   "source": [
    "test_indides = np.where(adata.obs[\"train_val_test\"] == \"test\")[0]\n",
    "testset = adata[test_indides, :].copy()\n",
    "modality_switch = 13431\n",
    "library = torch.cat(\n",
    "    (\n",
    "        torch.sum(\n",
    "            torch.Tensor(testset.X.todense())[:, :modality_switch], dim=-1\n",
    "        ).unsqueeze(1),\n",
    "        torch.sum(\n",
    "            torch.Tensor(testset.X.todense())[:, modality_switch:], dim=-1\n",
    "        ).unsqueeze(1),\n",
    "    ),\n",
    "    dim=1,\n",
    ")\n",
    "#trainset_all = trainset.copy()\n",
    "df_subset_ids = pd.read_csv(\"../../data/\" + data_name + \"_data_subsets.csv\")\n",
    "\n",
    "fraction = 0.01\n",
    "subset = fraction_dict[fraction]\n",
    "\n",
    "train_indices = list(\n",
    "    df_subset_ids[\n",
    "        (df_subset_ids[\"fraction\"] == fraction)\n",
    "        & (df_subset_ids[\"include\"] == 1)\n",
    "    ][\"sample_idx\"].values\n",
    ")\n",
    "trainset = adata[train_indices].copy()\n",
    "adata = None"
   ]
  },
  {
   "cell_type": "code",
   "execution_count": 4,
   "metadata": {},
   "outputs": [
    {
     "name": "stdout",
     "output_type": "stream",
     "text": [
      "CUDA Available: False\n",
      "Number of GPUs: 0\n",
      "using device:  cpu\n",
      "\n",
      "        Gaussian_mix_compture:\n",
      "            Dimensionality: 2\n",
      "            Number of components: 4\n",
      "        \n",
      "printing all checkpoint keys containing 'correction'\n",
      "correction_gmm.mean\n",
      "correction_gmm.neglogvar\n",
      "correction_gmm.weight\n",
      "correction_rep.z\n",
      "correction_val_rep.z\n",
      "correction_test_rep.z\n",
      "#######################\n",
      "Training status\n",
      "#######################\n",
      "True\n"
     ]
    }
   ],
   "source": [
    "model_name = (\n",
    "            \"human_bonemarrow_l20_h2-3_rs0_subset\" + str(subset)\n",
    "        )\n",
    "from omicsdgd import DGD\n",
    "model = DGD.load(\n",
    "    data=trainset, save_dir=save_dir + data_name + \"/\", model_name=model_name\n",
    ")\n",
    "trainset = None"
   ]
  },
  {
   "cell_type": "code",
   "execution_count": 5,
   "metadata": {},
   "outputs": [],
   "source": [
    "predictions = model.predict_from_representation(\n",
    "    model.test_rep, model.correction_test_rep\n",
    ")\n",
    "\n",
    "predictions[0] *= library[:, 0].unsqueeze(1)\n",
    "predictions[1] *= library[:, 1].unsqueeze(1)\n",
    "\n",
    "predictions[0] = predictions[0][::10].detach().numpy()\n",
    "predictions[1] = predictions[1][::100].detach().numpy()"
   ]
  },
  {
   "cell_type": "code",
   "execution_count": 6,
   "metadata": {},
   "outputs": [],
   "source": [
    "# save these predictions as numpy\n",
    "np.save(\n",
    "    result_dir + \"performance/\" + model_name + \"_test_predictions_RNA.npy\",\n",
    "    predictions[0],\n",
    ")\n",
    "np.save(\n",
    "    result_dir + \"performance/\" + model_name + \"_test_predictions_ATAC.npy\",\n",
    "    predictions[1],\n",
    ")"
   ]
  },
  {
   "cell_type": "code",
   "execution_count": 7,
   "metadata": {},
   "outputs": [],
   "source": [
    "# save original data\n",
    "\n",
    "np.save(\n",
    "    result_dir + \"performance/\" + data_name + \"_test_original_RNA.npy\",\n",
    "    testset.X[::10, :modality_switch].todense(),\n",
    ")\n",
    "np.save(\n",
    "    result_dir + \"performance/\" + data_name + \"_test_original_ATAC.npy\",\n",
    "    testset.X[::10, modality_switch:].todense(),\n",
    ")"
   ]
  },
  {
   "cell_type": "markdown",
   "metadata": {},
   "source": [
    "## make predictions (MultiVI)"
   ]
  },
  {
   "cell_type": "code",
   "execution_count": 2,
   "metadata": {},
   "outputs": [
    {
     "name": "stderr",
     "output_type": "stream",
     "text": [
      "/Users/dbm829/anaconda3/envs/multidgd-paper/lib/python3.9/site-packages/scvi/_settings.py:63: UserWarning: Since v1.0.0, scvi-tools no longer uses a random seed by default. Run `scvi.settings.seed = 0` to reproduce results from previous versions.\n",
      "  self.seed = seed\n",
      "/Users/dbm829/anaconda3/envs/multidgd-paper/lib/python3.9/site-packages/scvi/_settings.py:70: UserWarning: Setting `dl_pin_memory_gpu_training` is deprecated in v1.0 and will be removed in v1.1. Please pass in `pin_memory` to the data loaders instead.\n",
      "  self.dl_pin_memory_gpu_training = (\n"
     ]
    }
   ],
   "source": [
    "import scvi\n",
    "import torch\n",
    "import pandas as pd\n",
    "import anndata as ad\n",
    "import numpy as np\n",
    "from omicsdgd import DGD\n",
    "\n",
    "save_dir = \"../results/trained_models/\"\n",
    "data_name = \"human_bonemarrow\"\n",
    "# in this dictionary we will have the fractions and the corresponding number of samples in the train set\n",
    "fraction_dict = {0.01: 567, 0.1: 5671, 0.25: 14178, 0.5: 28357, 0.75: 42535, 1.0: 56714}\n",
    "\n",
    "\"\"\"\n",
    "Go through datasets and chosen models and compute reconstruction performances\n",
    "\"\"\"\n",
    "data_name = \"human_bonemarrow\"\n",
    "adata = ad.read_h5ad(\"../../data/\" + data_name + \".h5ad\")\n",
    "adata.X = adata.layers[\"counts\"]"
   ]
  },
  {
   "cell_type": "code",
   "execution_count": 3,
   "metadata": {},
   "outputs": [],
   "source": [
    "train_indides = np.where(adata.obs[\"train_val_test\"] == \"train\")[0]\n",
    "trainset = adata[train_indides, :].copy()\n",
    "test_indides = np.where(adata.obs[\"train_val_test\"] == \"test\")[0]\n",
    "testset = adata[test_indides, :].copy()\n",
    "modality_switch = 13431\n",
    "library = torch.cat(\n",
    "    (\n",
    "        torch.sum(\n",
    "            torch.Tensor(testset.X.todense())[:, :modality_switch], dim=-1\n",
    "        ).unsqueeze(1),\n",
    "        torch.sum(\n",
    "            torch.Tensor(testset.X.todense())[:, modality_switch:], dim=-1\n",
    "        ).unsqueeze(1),\n",
    "    ),\n",
    "    dim=1,\n",
    ")\n",
    "\n",
    "trainset.var_names_make_unique()\n",
    "trainset.obs[\"modality\"] = \"paired\"\n",
    "scvi.model.MULTIVI.setup_anndata(trainset, batch_key=\"Site\")\n",
    "testset.var_names_make_unique()\n",
    "testset.obs[\"modality\"] = \"paired\"\n",
    "scvi.model.MULTIVI.setup_anndata(testset, batch_key=\"Site\")"
   ]
  },
  {
   "cell_type": "code",
   "execution_count": 4,
   "metadata": {},
   "outputs": [
    {
     "name": "stdout",
     "output_type": "stream",
     "text": [
      "\u001b[34mINFO    \u001b[0m File ..\u001b[35m/results/trained_models/multiVI/human_bonemarrow/l20_e2_d2/\u001b[0m\u001b[95mmodel.pt\u001b[0m already downloaded             \n"
     ]
    },
    {
     "name": "stderr",
     "output_type": "stream",
     "text": [
      "/Users/dbm829/anaconda3/envs/multidgd-paper/lib/python3.9/site-packages/torch/nn/init.py:405: UserWarning: Initializing zero-element tensors is a no-op\n",
      "  warnings.warn(\"Initializing zero-element tensors is a no-op\")\n"
     ]
    }
   ],
   "source": [
    "model_name = \"l20_e2_d2\"\n",
    "model = scvi.model.MULTIVI.load(\n",
    "    save_dir + \"multiVI/\" + data_name + \"/\" + model_name, adata=trainset\n",
    ")"
   ]
  },
  {
   "cell_type": "code",
   "execution_count": 5,
   "metadata": {},
   "outputs": [
    {
     "name": "stdout",
     "output_type": "stream",
     "text": [
      "\u001b[34mINFO    \u001b[0m Input AnnData not setup with scvi-tools. attempting to transfer AnnData setup                             \n"
     ]
    }
   ],
   "source": [
    "rna_preds = model.get_normalized_expression(testset)\n",
    "atac_preds = model.get_accessibility_estimates(testset)"
   ]
  },
  {
   "cell_type": "code",
   "execution_count": 6,
   "metadata": {},
   "outputs": [],
   "source": [
    "# save these predictions as numpy\n",
    "np.save(\n",
    "    result_dir + \"performance/\" + model_name + \"_test_predictions_RNA.npy\",\n",
    "    rna_preds[::10].values,\n",
    ")\n",
    "np.save(\n",
    "    result_dir + \"performance/\" + model_name + \"_test_predictions_ATAC.npy\",\n",
    "    atac_preds[::10].values,\n",
    ")"
   ]
  },
  {
   "cell_type": "code",
   "execution_count": 3,
   "metadata": {},
   "outputs": [],
   "source": [
    "test_indides = np.where(adata.obs[\"train_val_test\"] == \"test\")[0]\n",
    "testset = adata[test_indides, :].copy()\n",
    "modality_switch = 13431\n",
    "library = torch.cat(\n",
    "    (\n",
    "        torch.sum(\n",
    "            torch.Tensor(testset.X.todense())[:, :modality_switch], dim=-1\n",
    "        ).unsqueeze(1),\n",
    "        torch.sum(\n",
    "            torch.Tensor(testset.X.todense())[:, modality_switch:], dim=-1\n",
    "        ).unsqueeze(1),\n",
    "    ),\n",
    "    dim=1,\n",
    ")\n",
    "\n",
    "df_subset_ids = pd.read_csv(\"../../data/\" + data_name + \"_data_subsets.csv\")\n",
    "\n",
    "fraction = 0.01\n",
    "subset = fraction_dict[fraction]\n",
    "\n",
    "train_indices = list(\n",
    "    df_subset_ids[\n",
    "        (df_subset_ids[\"fraction\"] == fraction)\n",
    "        & (df_subset_ids[\"include\"] == 1)\n",
    "    ][\"sample_idx\"].values\n",
    ")\n",
    "trainset = adata[train_indices].copy()\n",
    "\n",
    "trainset.var_names_make_unique()\n",
    "trainset.obs[\"modality\"] = \"paired\"\n",
    "scvi.model.MULTIVI.setup_anndata(trainset, batch_key=\"Site\")\n",
    "testset.var_names_make_unique()\n",
    "testset.obs[\"modality\"] = \"paired\"\n",
    "scvi.model.MULTIVI.setup_anndata(testset, batch_key=\"Site\")"
   ]
  },
  {
   "cell_type": "code",
   "execution_count": 4,
   "metadata": {},
   "outputs": [
    {
     "name": "stdout",
     "output_type": "stream",
     "text": [
      "\u001b[34mINFO    \u001b[0m File ..\u001b[35m/results/trained_models/multiVI/human_bonemarrow/l20_e2_d2_rs0_subset567/\u001b[0m\u001b[95mmodel.pt\u001b[0m already          \n",
      "         downloaded                                                                                                \n"
     ]
    },
    {
     "name": "stderr",
     "output_type": "stream",
     "text": [
      "/Users/dbm829/anaconda3/envs/multidgd-paper/lib/python3.9/site-packages/torch/nn/init.py:405: UserWarning: Initializing zero-element tensors is a no-op\n",
      "  warnings.warn(\"Initializing zero-element tensors is a no-op\")\n"
     ]
    }
   ],
   "source": [
    "model_name = \"l20_e2_d2_rs0_subset567\"\n",
    "model = scvi.model.MULTIVI.load(\n",
    "    save_dir + \"multiVI/\" + data_name + \"/\" + model_name, adata=trainset\n",
    ")"
   ]
  },
  {
   "cell_type": "code",
   "execution_count": 5,
   "metadata": {},
   "outputs": [
    {
     "name": "stdout",
     "output_type": "stream",
     "text": [
      "\u001b[34mINFO    \u001b[0m Input AnnData not setup with scvi-tools. attempting to transfer AnnData setup                             \n"
     ]
    }
   ],
   "source": [
    "rna_preds = model.get_normalized_expression(testset)\n",
    "rna_preds *= library[:, 0].unsqueeze(1).numpy()\n",
    "\n",
    "atac_preds = model.get_accessibility_estimates(testset)"
   ]
  },
  {
   "cell_type": "code",
   "execution_count": 6,
   "metadata": {},
   "outputs": [],
   "source": [
    "model = None\n",
    "trainset = None\n",
    "adata = None"
   ]
  },
  {
   "cell_type": "code",
   "execution_count": 7,
   "metadata": {},
   "outputs": [],
   "source": [
    "# save these predictions as numpy\n",
    "np.save(\n",
    "    result_dir + \"performance/\" + model_name + \"_test_predictions_RNA.npy\",\n",
    "    rna_preds[::10].values,\n",
    ")\n",
    "np.save(\n",
    "    result_dir + \"performance/\" + model_name + \"_test_predictions_ATAC.npy\",\n",
    "    atac_preds[::10].values,\n",
    ")"
   ]
  },
  {
   "cell_type": "markdown",
   "metadata": {},
   "source": [
    "## errors"
   ]
  },
  {
   "cell_type": "code",
   "execution_count": 2,
   "metadata": {},
   "outputs": [],
   "source": [
    "# load data\n",
    "data_name = \"human_bonemarrow\"\n",
    "model_name = \"human_bonemarrow_l20_h2-3\"\n",
    "raw_data = [\n",
    "    np.load(result_dir + \"performance/\" + data_name + \"_test_original_RNA.npy\"),\n",
    "    np.load(result_dir + \"performance/\" + data_name + \"_test_original_ATAC.npy\"),\n",
    "]\n",
    "model_name = \"human_bonemarrow_l20_h2-3\"\n",
    "predictions_full = [\n",
    "    np.load(result_dir + \"performance/\" + model_name + \"_test_predictions_RNA.npy\"),\n",
    "    np.load(result_dir + \"performance/\" + model_name + \"_test_predictions_ATAC.npy\"),\n",
    "]\n",
    "model_name = \"human_bonemarrow_l20_h2-3_rs0_subset567\"\n",
    "predictions_small = [\n",
    "    np.load(result_dir + \"performance/\" + model_name + \"_test_predictions_RNA.npy\"),\n",
    "    np.load(result_dir + \"performance/\" + model_name + \"_test_predictions_ATAC.npy\"),\n",
    "]"
   ]
  },
  {
   "cell_type": "code",
   "execution_count": 8,
   "metadata": {},
   "outputs": [
    {
     "data": {
      "image/png": "[encoded data removed]",
      "text/plain": [
       "<Figure size 787.402x787.402 with 4 Axes>"
      ]
     },
     "metadata": {},
     "output_type": "display_data"
    }
   ],
   "source": [
    "# make a figure with 4 subplots (2x2)\n",
    "\n",
    "fig = plt.figure(figsize=(20 * cm, 20 * cm))\n",
    "gs = gridspec.GridSpec(2, 2, figure=fig)\n",
    "gs.update(wspace=0.6, hspace=0.6)\n",
    "ax_list = []\n",
    "\n",
    "# top row will be full model\n",
    "ax_list.append(fig.add_subplot(gs[0, 0]))\n",
    "sns.scatterplot(\n",
    "    x=raw_data[0].flatten(),\n",
    "    y=predictions_full[0].flatten(),\n",
    "    ax=ax_list[-1],\n",
    "    s=0.1,\n",
    "    color=\"black\",\n",
    ")\n",
    "# plot a red line for the originals\n",
    "ax_list[-1].plot(\n",
    "    [raw_data[0].flatten().min(), raw_data[0].flatten().max()],\n",
    "    [raw_data[0].flatten().min(), raw_data[0].flatten().max()],\n",
    "    #transform=ax_list[-1].transAxes,\n",
    "    color=\"red\",\n",
    "    linestyle=\"--\",\n",
    ")\n",
    "ax_list[-1].set_xlabel(\"Original\")\n",
    "ax_list[-1].set_ylabel(\"Predicted\")\n",
    "ax_list[-1].set_yscale(\"log\")\n",
    "ax_list[-1].set_xscale(\"log\")\n",
    "ax_list[-1].set_title(\"RNA\")\n",
    "\n",
    "ax_list.append(fig.add_subplot(gs[0, 1]))\n",
    "sns.scatterplot(\n",
    "    x=raw_data[1].flatten(),\n",
    "    y=predictions_full[1].flatten(),\n",
    "    ax=ax_list[-1],\n",
    "    s=0.1,\n",
    "    color=\"black\",\n",
    ")\n",
    "# plot a red line for the originals\n",
    "ax_list[-1].plot(\n",
    "    [raw_data[1].flatten().min(), raw_data[1].flatten().max()],\n",
    "    [raw_data[1].flatten().min(), raw_data[1].flatten().max()],\n",
    "    #transform=ax_list[-1].transAxes,\n",
    "    color=\"red\",\n",
    "    linestyle=\"--\",\n",
    ")\n",
    "ax_list[-1].set_xlabel(\"Original\")\n",
    "ax_list[-1].set_ylabel(\"Predicted\")\n",
    "ax_list[-1].set_yscale(\"log\")\n",
    "ax_list[-1].set_xscale(\"log\")\n",
    "ax_list[-1].set_title(\"ATAC\")\n",
    "\n",
    "# bottom row will be small model\n",
    "ax_list.append(fig.add_subplot(gs[1, 0]))\n",
    "sns.scatterplot(\n",
    "    x=raw_data[0].flatten(),\n",
    "    y=predictions_small[0].flatten(),\n",
    "    ax=ax_list[-1],\n",
    "    s=0.1,\n",
    "    color=\"black\",\n",
    ")\n",
    "# plot a red line for the originals\n",
    "ax_list[-1].plot(\n",
    "    [raw_data[0].flatten().min(), raw_data[0].flatten().max()],\n",
    "    [raw_data[0].flatten().min(), raw_data[0].flatten().max()],\n",
    "    #transform=ax_list[-1].transAxes,\n",
    "    color=\"red\",\n",
    "    linestyle=\"--\",\n",
    ")\n",
    "ax_list[-1].set_xlabel(\"Original\")\n",
    "ax_list[-1].set_ylabel(\"Predicted\")\n",
    "ax_list[-1].set_yscale(\"log\")\n",
    "ax_list[-1].set_xscale(\"log\")\n",
    "ax_list[-1].set_title(\"RNA (subset)\")\n",
    "\n",
    "ax_list.append(fig.add_subplot(gs[1, 1]))\n",
    "sns.scatterplot(\n",
    "    x=raw_data[1].flatten(),\n",
    "    y=predictions_small[1].flatten(),\n",
    "    ax=ax_list[-1],\n",
    "    s=0.1,\n",
    "    color=\"black\",\n",
    ")\n",
    "# plot a red line for the originals\n",
    "ax_list[-1].plot(\n",
    "    [raw_data[1].flatten().min(), raw_data[1].flatten().max()],\n",
    "    [raw_data[1].flatten().min(), raw_data[1].flatten().max()],\n",
    "    #transform=ax_list[-1].transAxes,\n",
    "    color=\"red\",\n",
    "    linestyle=\"--\",\n",
    ")\n",
    "ax_list[-1].set_xlabel(\"Original\")\n",
    "ax_list[-1].set_ylabel(\"Predicted\")\n",
    "ax_list[-1].set_yscale(\"log\")\n",
    "ax_list[-1].set_xscale(\"log\")\n",
    "ax_list[-1].set_title(\"ATAC (subset)\")\n",
    "\n",
    "plt.savefig(plot_dir + \"bonemarrow_test_predictions_scatter_subset.png\", dpi=300, bbox_inches='tight')"
   ]
  },
  {
   "cell_type": "code",
   "execution_count": 2,
   "metadata": {},
   "outputs": [],
   "source": [
    "# load data\n",
    "data_name = \"human_bonemarrow\"\n",
    "raw_data = [\n",
    "    np.load(result_dir + \"performance/\" + data_name + \"_test_original_RNA.npy\"),\n",
    "    np.load(result_dir + \"performance/\" + data_name + \"_test_original_ATAC.npy\"),\n",
    "]\n",
    "model_name = \"l20_e2_d2\"\n",
    "predictions_full = [\n",
    "    np.load(result_dir + \"performance/\" + model_name + \"_test_predictions_RNA.npy\"),\n",
    "    np.load(result_dir + \"performance/\" + model_name + \"_test_predictions_ATAC.npy\"),\n",
    "]\n",
    "model_name = \"l20_e2_d2_rs0_subset567\"\n",
    "predictions_small = [\n",
    "    np.load(result_dir + \"performance/\" + model_name + \"_test_predictions_RNA.npy\"),\n",
    "    np.load(result_dir + \"performance/\" + model_name + \"_test_predictions_ATAC.npy\"),\n",
    "]"
   ]
  },
  {
   "cell_type": "code",
   "execution_count": 3,
   "metadata": {},
   "outputs": [],
   "source": [
    "import torch\n",
    "\n",
    "def binarize(x, threshold=0.5):\n",
    "    x[x >= threshold] = 1\n",
    "    x[x < threshold] = 0\n",
    "    return x"
   ]
  },
  {
   "cell_type": "code",
   "execution_count": 4,
   "metadata": {},
   "outputs": [
    {
     "data": {
      "image/png": "[encoded data removed]",
      "text/plain": [
       "<Figure size 787.402x787.402 with 4 Axes>"
      ]
     },
     "metadata": {},
     "output_type": "display_data"
    }
   ],
   "source": [
    "# make a figure with 4 subplots (2x2)\n",
    "\n",
    "fig = plt.figure(figsize=(20 * cm, 20 * cm))\n",
    "gs = gridspec.GridSpec(2, 2, figure=fig)\n",
    "gs.update(wspace=0.6, hspace=0.6)\n",
    "ax_list = []\n",
    "\n",
    "# top row will be full model\n",
    "ax_list.append(fig.add_subplot(gs[0, 0]))\n",
    "sns.scatterplot(\n",
    "    x=raw_data[0].flatten(),\n",
    "    y=predictions_full[0].flatten(),\n",
    "    ax=ax_list[-1],\n",
    "    s=0.1,\n",
    "    color=\"black\",\n",
    ")\n",
    "# plot a red line for the originals\n",
    "ax_list[-1].plot(\n",
    "    [raw_data[0].flatten().min(), raw_data[0].flatten().max()],\n",
    "    [raw_data[0].flatten().min(), raw_data[0].flatten().max()],\n",
    "    #transform=ax_list[-1].transAxes,\n",
    "    color=\"red\",\n",
    "    linestyle=\"--\",\n",
    ")\n",
    "ax_list[-1].set_xlabel(\"Original\")\n",
    "ax_list[-1].set_ylabel(\"Predicted\")\n",
    "ax_list[-1].set_yscale(\"log\")\n",
    "ax_list[-1].set_xscale(\"log\")\n",
    "ax_list[-1].set_title(\"RNA\")\n",
    "\n",
    "ax_list.append(fig.add_subplot(gs[0, 1]))\n",
    "sns.violinplot(\n",
    "    x=binarize(torch.tensor(raw_data[1].flatten())).numpy(),\n",
    "    y=binarize(torch.tensor(predictions_full[1].flatten())).numpy(),\n",
    "    ax=ax_list[-1],\n",
    "    linewidth=0.1,\n",
    ")\n",
    "ax_list[-1].set_xlabel(\"Original\")\n",
    "ax_list[-1].set_ylabel(\"Predicted\")\n",
    "#ax_list[-1].set_yscale(\"log\")\n",
    "#ax_list[-1].set_xscale(\"log\")\n",
    "ax_list[-1].set_title(\"ATAC\")\n",
    "\n",
    "# bottom row will be small model\n",
    "ax_list.append(fig.add_subplot(gs[1, 0]))\n",
    "sns.scatterplot(\n",
    "    x=raw_data[0].flatten(),\n",
    "    y=predictions_small[0].flatten(),\n",
    "    ax=ax_list[-1],\n",
    "    s=0.1,\n",
    "    color=\"black\",\n",
    ")\n",
    "# plot a red line for the originals\n",
    "ax_list[-1].plot(\n",
    "    [raw_data[0].flatten().min(), raw_data[0].flatten().max()],\n",
    "    [raw_data[0].flatten().min(), raw_data[0].flatten().max()],\n",
    "    #transform=ax_list[-1].transAxes,\n",
    "    color=\"red\",\n",
    "    linestyle=\"--\",\n",
    ")\n",
    "ax_list[-1].set_xlabel(\"Original\")\n",
    "ax_list[-1].set_ylabel(\"Predicted\")\n",
    "ax_list[-1].set_yscale(\"log\")\n",
    "ax_list[-1].set_xscale(\"log\")\n",
    "ax_list[-1].set_title(\"RNA (subset)\")\n",
    "\n",
    "ax_list.append(fig.add_subplot(gs[1, 1]))\n",
    "# make this a violin plot\n",
    "sns.violinplot(\n",
    "    x=binarize(torch.tensor(raw_data[1].flatten())).numpy(),\n",
    "    y=binarize(torch.tensor(predictions_small[1].flatten())).numpy(),\n",
    "    ax=ax_list[-1],\n",
    "    linewidth=0.1,\n",
    ")\n",
    "ax_list[-1].set_xlabel(\"Original\")\n",
    "ax_list[-1].set_ylabel(\"Predicted\")\n",
    "#ax_list[-1].set_yscale(\"log\")\n",
    "#ax_list[-1].set_xscale(\"log\")\n",
    "ax_list[-1].set_title(\"ATAC (subset)\")\n",
    "\n",
    "plt.savefig(plot_dir + \"bonemarrow_test_predictions_scatter_subset_mvi.png\", dpi=300, bbox_inches='tight')"
   ]
  },
  {
   "cell_type": "code",
   "execution_count": 5,
   "metadata": {},
   "outputs": [
    {
     "name": "stdout",
     "output_type": "stream",
     "text": [
      "0.7120348215103149\n"
     ]
    }
   ],
   "source": [
    "import torch\n",
    "\n",
    "def binarize(x, threshold=0.5):\n",
    "    x[x >= threshold] = 1\n",
    "    x[x < threshold] = 0\n",
    "    return x\n",
    "\n",
    "x_accessibility = binarize(torch.tensor(raw_data[1].flatten()))\n",
    "y_accessibility = binarize(torch.tensor(predictions_small[1].flatten()))\n",
    "\n",
    "p = (x_accessibility == 1)\n",
    "pp = (y_accessibility == 1)\n",
    "tp = torch.logical_and(p,pp).sum(0).float()\n",
    "tn = torch.logical_and(~p,~pp).sum(0).float()\n",
    "fp = (y_accessibility > x_accessibility).sum(0).float()\n",
    "fn = (y_accessibility < x_accessibility).sum(0).float()\n",
    "\n",
    "tpr = tp / (tp + fn) # sensitivity\n",
    "tnr = tn / (tn + fp) # specificity\n",
    "balanced_accuracy = (tpr + tnr) / 2\n",
    "print(balanced_accuracy.item())"
   ]
  },
  {
   "cell_type": "code",
   "execution_count": 6,
   "metadata": {},
   "outputs": [
    {
     "name": "stdout",
     "output_type": "stream",
     "text": [
      "0.6966515183448792\n"
     ]
    }
   ],
   "source": [
    "import torch\n",
    "\n",
    "def binarize(x, threshold=0.5):\n",
    "    x[x >= threshold] = 1\n",
    "    x[x < threshold] = 0\n",
    "    return x\n",
    "\n",
    "x_accessibility = binarize(torch.tensor(raw_data[1].flatten()))\n",
    "y_accessibility = binarize(torch.tensor(predictions_full[1].flatten()))\n",
    "\n",
    "p = (x_accessibility == 1)\n",
    "pp = (y_accessibility == 1)\n",
    "tp = torch.logical_and(p,pp).sum(0).float()\n",
    "tn = torch.logical_and(~p,~pp).sum(0).float()\n",
    "fp = (y_accessibility > x_accessibility).sum(0).float()\n",
    "fn = (y_accessibility < x_accessibility).sum(0).float()\n",
    "\n",
    "tpr = tp / (tp + fn) # sensitivity\n",
    "tnr = tn / (tn + fp) # specificity\n",
    "balanced_accuracy = (tpr + tnr) / 2\n",
    "print(balanced_accuracy.item())"
   ]
  }
 ],
 "metadata": {
  "kernelspec": {
   "display_name": "multidgd-paper",
   "language": "python",
   "name": "python3"
  },
  "language_info": {
   "codemirror_mode": {
    "name": "ipython",
    "version": 3
   },
   "file_extension": ".py",
   "mimetype": "text/x-python",
   "name": "python",
   "nbconvert_exporter": "python",
   "pygments_lexer": "ipython3",
   "version": "3.9.6"
  }
 },
 "nbformat": 4,
 "nbformat_minor": 2
}
