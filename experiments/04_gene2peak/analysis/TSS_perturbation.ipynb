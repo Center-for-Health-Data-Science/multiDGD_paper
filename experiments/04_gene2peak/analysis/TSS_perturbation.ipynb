{
 "cells": [
  {
   "cell_type": "markdown",
   "id": "precious-surfing",
   "metadata": {},
   "source": [
    "# Effect of perturbation around gene promoters\n",
    "\n",
    "Here we test whether _in silico_ silencing of a gene leads to perturbation of chromatin profiles in proximity of the TSS. "
   ]
  },
  {
   "cell_type": "code",
   "execution_count": null,
   "id": "artificial-imaging",
   "metadata": {},
   "outputs": [],
   "source": [
    "# pip install bioframe"
   ]
  },
  {
   "cell_type": "code",
   "execution_count": null,
   "id": "amino-neutral",
   "metadata": {},
   "outputs": [],
   "source": [
    "# pip install pyjaspar"
   ]
  },
  {
   "cell_type": "code",
   "execution_count": 1,
   "id": "convenient-bosnia",
   "metadata": {},
   "outputs": [],
   "source": [
    "import os,sys\n",
    "import multiDGD\n",
    "import numpy as np\n",
    "import pandas as pd\n",
    "#import mudata as md\n",
    "import anndata as ad\n",
    "import bioframe\n",
    "from pyjaspar import jaspardb\n",
    "import genomic_features as gf\n",
    "\n",
    "import seaborn as sns\n",
    "import matplotlib\n",
    "import matplotlib.pyplot as plt"
   ]
  },
  {
   "cell_type": "code",
   "execution_count": 2,
   "id": "fitting-mozambique",
   "metadata": {},
   "outputs": [
    {
     "data": {
      "text/plain": [
       "<Figure size 708.661x275.591 with 0 Axes>"
      ]
     },
     "metadata": {},
     "output_type": "display_data"
    }
   ],
   "source": [
    "import matplotlib\n",
    "import matplotlib.pyplot as plt\n",
    "import matplotlib.gridspec as gridspec\n",
    "import matplotlib.transforms as mtransforms\n",
    "\n",
    "####################################\n",
    "# flexible parameters\n",
    "####################################\n",
    "figure_height = 7\n",
    "n_cols = 1\n",
    "n_rows = 1\n",
    "grid_wspace = 1.5\n",
    "grid_hspace = 2.5\n",
    "figure_name = 'fig_template'\n",
    "\n",
    "####################################\n",
    "# fixed figure design\n",
    "####################################\n",
    "# set up figure and grid\n",
    "cm = 1/2.54\n",
    "fig = plt.figure(figsize=(18*cm,figure_height*cm))\n",
    "gs = gridspec.GridSpec(n_rows,n_cols)\n",
    "gs.update(wspace = grid_wspace, hspace = grid_hspace)\n",
    "ax_list = []\n",
    "# fonts\n",
    "# general text\n",
    "text_size = 8\n",
    "scaling_factor = 3\n",
    "plt.rcParams.update({'font.size': 4*scaling_factor, 'axes.linewidth': 0.3*scaling_factor,\n",
    "                     'xtick.major.size': 1.5*scaling_factor, 'xtick.major.width': 0.3*scaling_factor, 'ytick.major.size': 1.5*scaling_factor, 'ytick.major.width': 0.3*scaling_factor})\n",
    "# grid letters\n",
    "grid_letter_positions = [-0.1, 0.05]\n",
    "grid_letter_fontsize = 8\n",
    "grid_letter_fontfamily = 'sans-serif'\n",
    "grid_letter_fontweight = 'bold'\n",
    "point_size = 1\n",
    "# colors\n",
    "palette_2colrs = ['palegoldenrod', 'cornflowerblue']\n",
    "batch_palette = ['palegoldenrod', 'cornflowerblue', 'darkmagenta', 'darkslategray']\n",
    "palette_3colrs = [\"lightgray\", \"cornflowerblue\", \"darkmagenta\", \"darkolivegreen\", \"firebrick\", \"midnightblue\"]\n",
    "palette_continuous_1 = \"GnBu\"\n",
    "palette_continuous_2 = 'magma_r'\n",
    "# legend set up\n",
    "legend_x_dist, legend_y_dist = -0.02, 0.0\n",
    "handletextpad = 0.1\n",
    "# scatter plot\n",
    "point_size = 0.3\n",
    "alpha = 1\n",
    "point_linewidth = 0.0\n",
    "handlesize = 0.5\n",
    "# line plot\n",
    "linewidth = 0.5\n",
    "\n",
    "# set trans for labeling physical distance to the left and up:\n",
    "trans = mtransforms.ScaledTranslation(-20/72, 7/72, fig.dpi_scale_trans)"
   ]
  },
  {
   "cell_type": "markdown",
   "id": "important-factory",
   "metadata": {
    "tags": []
   },
   "source": [
    "### Load trained model and data"
   ]
  },
  {
   "cell_type": "code",
   "execution_count": 68,
   "id": "nutritional-article",
   "metadata": {},
   "outputs": [],
   "source": [
    "model_dir = '/nfs/team205/ed6/data/bonemarrow_model/'\n",
    "\n",
    "# Read data\n",
    "data = ad.read_h5ad(model_dir + 'GSE194122_openproblems_neurips2021_multiome_BMMC_processed_withDataSplit.h5ad')"
   ]
  },
  {
   "cell_type": "code",
   "execution_count": 69,
   "id": "conscious-seven",
   "metadata": {},
   "outputs": [
    {
     "name": "stdout",
     "output_type": "stream",
     "text": [
      "Covariate model initialized as:\n",
      "\n",
      "        Gaussian_mix_compture:\n",
      "            Dimensionality: 2\n",
      "            Number of components: 4\n",
      "        \n",
      "#######################\n",
      "Training status\n",
      "#######################\n",
      "True\n"
     ]
    }
   ],
   "source": [
    "# Load trained model\n",
    "model = multiDGD.DGD.load(data=data, save_dir=model_dir, model_name='dgd_bonemarrow_default_trained_and_tested')\n",
    "\n",
    "# specify the samples we want to look at\n",
    "testset = data[data.obs[\"train_val_test\"] == \"test\",:].copy()"
   ]
  },
  {
   "cell_type": "code",
   "execution_count": 70,
   "id": "potential-mineral",
   "metadata": {},
   "outputs": [
    {
     "data": {
      "text/plain": [
       "AnnData object with n_obs × n_vars = 6925 × 129921\n",
       "    obs: 'GEX_pct_counts_mt', 'GEX_n_counts', 'GEX_n_genes', 'GEX_size_factors', 'GEX_phase', 'ATAC_nCount_peaks', 'ATAC_atac_fragments', 'ATAC_reads_in_peaks_frac', 'ATAC_blacklist_fraction', 'ATAC_nucleosome_signal', 'cell_type', 'batch', 'ATAC_pseudotime_order', 'GEX_pseudotime_order', 'Samplename', 'Site', 'DonorNumber', 'Modality', 'VendorLot', 'DonorID', 'DonorAge', 'DonorBMI', 'DonorBloodType', 'DonorRace', 'Ethnicity', 'DonorGender', 'QCMeds', 'DonorSmoker', 'train_val_test', 'observable', 'covariate_Site'\n",
       "    var: 'feature_types', 'gene_id', 'modality'\n",
       "    uns: 'ATAC_gene_activity_var_names', 'dataset_id', 'genome', 'organism'\n",
       "    obsm: 'ATAC_gene_activity', 'ATAC_lsi_full', 'ATAC_lsi_red', 'ATAC_umap', 'GEX_X_pca', 'GEX_X_umap'"
      ]
     },
     "execution_count": 70,
     "metadata": {},
     "output_type": "execute_result"
    }
   ],
   "source": [
    "testset"
   ]
  },
  {
   "cell_type": "markdown",
   "id": "pointed-bones",
   "metadata": {},
   "source": [
    "### Get genomic ranges of peaks"
   ]
  },
  {
   "cell_type": "code",
   "execution_count": null,
   "id": "american-rwanda",
   "metadata": {},
   "outputs": [],
   "source": [
    "data = ad.read_h5ad(model_dir + 'GSE194122_openproblems_neurips2021_multiome_BMMC_processed_withDataSplit.h5ad', backed=True)\n",
    "\n",
    "def _bioframe_from_strings(pos_list: pd.Series):\n",
    "    \"\"\"\n",
    "    Function to create bioframe compatible table from string of genomic position\n",
    "    \"\"\"\n",
    "    # Chromosome and positions\n",
    "    chr = pos_list.str.split(':').str.get(0)\n",
    "    start = pd.Series(pos_list.str.split(':').str.get(1)\n",
    "                      ).str.split('-').str.get(0)\n",
    "    end = pd.Series(pos_list.str.split(':').str.get(1)\n",
    "                    ).str.split('-').str.get(1)\n",
    "\n",
    "    # Create ranges\n",
    "    bioframe_df = pd.concat([chr, start, end], axis=1)\n",
    "    bioframe_df.columns = ['chrom', 'start', 'end']\n",
    "    bioframe_df.loc[:,['start', 'end']] = bioframe_df.loc[:,['start', 'end']].astype(int)\n",
    "    return bioframe_df.convert_dtypes()\n",
    "\n",
    "# Get ranges of all peaks\n",
    "pos_list = data.var[data.var['feature_types'] == 'ATAC'].index.tolist()\n",
    "pos_list = pd.Series(pos_list).str.replace(\"-\", \":\", 1)\n",
    "peaks_df = _bioframe_from_strings(pos_list)\n",
    "peaks_df['name'] = '.'\n",
    "peaks_df.columns = peaks_df.columns.astype('str')\n",
    "\n",
    "peaks_df.to_csv(model_dir + 'GSE194122_openproblems_neurips2021_multiome_BMMC_processed_withDataSplit.peaks.csv')\n",
    "\n",
    "## Save gene names\n",
    "gene_names = data.var[data.var['feature_types'] == 'GEX']\n",
    "gene_names.to_csv(model_dir + 'GSE194122_openproblems_neurips2021_multiome_BMMC_processed_withDataSplit.gene_names.csv')"
   ]
  },
  {
   "cell_type": "code",
   "execution_count": 25,
   "id": "lovely-sensitivity",
   "metadata": {},
   "outputs": [],
   "source": [
    "peaks_df = pd.read_csv(model_dir + 'GSE194122_openproblems_neurips2021_multiome_BMMC_processed_withDataSplit.peaks.csv', index_col=0)\n",
    "gene_names = pd.read_csv(model_dir + 'GSE194122_openproblems_neurips2021_multiome_BMMC_processed_withDataSplit.gene_names.csv', index_col=0) "
   ]
  },
  {
   "cell_type": "code",
   "execution_count": 5,
   "id": "available-cross",
   "metadata": {},
   "outputs": [
    {
     "data": {
      "text/plain": [
       "Index(['AL627309.5', 'LINC01409', 'LINC01128', 'NOC2L', 'KLHL17', 'ISG15',\n",
       "       'C1orf159', 'SDF4', 'B3GALT6', 'UBE2J2',\n",
       "       ...\n",
       "       'MT-ATP6', 'MT-CO3', 'MT-ND3', 'MT-ND4L', 'MT-ND4', 'MT-ND5', 'MT-ND6',\n",
       "       'MT-CYB', 'AL592183.1', 'AC240274.1'],\n",
       "      dtype='object', length=13431)"
      ]
     },
     "execution_count": 5,
     "metadata": {},
     "output_type": "execute_result"
    }
   ],
   "source": [
    "gene_names.index"
   ]
  },
  {
   "cell_type": "markdown",
   "id": "complex-huntington",
   "metadata": {},
   "source": [
    "### Get genes to perturb \n",
    "Selection of highly variable genes"
   ]
  },
  {
   "cell_type": "code",
   "execution_count": 108,
   "id": "removable-hunger",
   "metadata": {},
   "outputs": [],
   "source": [
    "import scanpy as sc\n",
    "\n",
    "gex_adata = testset[:,testset.var['feature_types'] == 'GEX'].copy()\n",
    "sc.pp.normalize_total(gex_adata)\n",
    "sc.pp.log1p(gex_adata)\n",
    "sc.pp.highly_variable_genes(gex_adata)"
   ]
  },
  {
   "cell_type": "code",
   "execution_count": 127,
   "id": "secondary-arrow",
   "metadata": {},
   "outputs": [],
   "source": [
    "promoter_genes_perturb = [x for x in gex_adata.var_names[gex_adata.var['highly_variable']].tolist() \n",
    "     if not x.endswith(\".1\") and not x.startswith(\"MT-\") and not x.startswith(\"HIST\")]"
   ]
  },
  {
   "cell_type": "code",
   "execution_count": 122,
   "id": "fallen-shift",
   "metadata": {},
   "outputs": [],
   "source": [
    "# Get positions of genes\n",
    "ensdb = gf.ensembl.annotation(species=\"Hsapiens\", version=\"108\")\n",
    "gene_ranges_df = ensdb.genes()\n",
    "try:\n",
    "    gene_ranges_df = gene_ranges_df[gene_ranges_df['gene_id'].isin(var_gex.gene_id)].copy()\n",
    "    gene_ranges_df = gene_ranges_df.set_index(\"gene_id\")\n",
    "except KeyError:\n",
    "    gene_ranges_df = gene_ranges_df.set_index(\"gene_name\")"
   ]
  },
  {
   "cell_type": "code",
   "execution_count": 133,
   "id": "cellular-numbers",
   "metadata": {},
   "outputs": [],
   "source": [
    "promoter_genes_perturb = [x for x in promoter_genes_perturb if x in gene_ranges_df.gene_name.tolist()]"
   ]
  },
  {
   "cell_type": "code",
   "execution_count": 135,
   "id": "plastic-shield",
   "metadata": {},
   "outputs": [],
   "source": [
    "with open('/nfs/team205/ed6/data/bonemarrow_model/genes_to_test.txt', 'w') as f:\n",
    "    for g in promoter_genes_perturb:\n",
    "        f.write(g + '\\n')"
   ]
  },
  {
   "cell_type": "markdown",
   "id": "continental-repository",
   "metadata": {},
   "source": [
    "### Run perturbation analysis\n",
    "\n",
    "Using script `run_tss_analysis.py`"
   ]
  },
  {
   "cell_type": "markdown",
   "id": "afraid-lawrence",
   "metadata": {},
   "source": [
    "### Parse results"
   ]
  },
  {
   "cell_type": "code",
   "execution_count": 848,
   "id": "national-neutral",
   "metadata": {},
   "outputs": [],
   "source": [
    "outfiles = [model_dir + x for x in os.listdir(model_dir) if x.startswith('TSS_')]\n",
    "tss_res_df = pd.concat([pd.read_csv(f) for f in outfiles])"
   ]
  },
  {
   "cell_type": "code",
   "execution_count": 849,
   "id": "orange-speaker",
   "metadata": {},
   "outputs": [],
   "source": [
    "n_genes = tss_res_df.perturbed_gene.nunique()"
   ]
  },
  {
   "cell_type": "code",
   "execution_count": 850,
   "id": "electronic-filter",
   "metadata": {},
   "outputs": [
    {
     "data": {
      "text/plain": [
       "1187"
      ]
     },
     "execution_count": 850,
     "metadata": {},
     "output_type": "execute_result"
    }
   ],
   "source": [
    "n_genes"
   ]
  },
  {
   "cell_type": "code",
   "execution_count": 754,
   "id": "appreciated-belle",
   "metadata": {},
   "outputs": [],
   "source": [
    "from scipy.stats import t\n",
    "\n",
    "w_size = 100\n",
    "# rollmean_df = tss_res_df.sort_values('distance').groupby('perturbed_gene').rolling(window=5, on='distance', closed='right').mean('mean_delta').reset_index()\n",
    "rollmean_df = tss_res_df.sort_values('distance').rolling(window=w_size, on='distance', closed='left').median('mean_delta').reset_index()\n",
    "rollmean_df = rollmean_df.dropna()\n",
    "rollsd_df = tss_res_df.sort_values('distance').rolling(window=w_size, on='distance', closed='left')['mean_delta'].apply(lambda x: x.sem()).reset_index()\n",
    "rollsd_df = rollsd_df.dropna()\n",
    "\n",
    "# Calculate degrees of freedom (n-1) for t-distribution\n",
    "degrees_of_freedom = w_size - 1\n",
    "\n",
    "# Calculate confidence interval based on rolling mean and standard error\n",
    "confidence_interval = rollsd_df['mean_delta'] * t.ppf(0.95, degrees_of_freedom)\n",
    "\n",
    "rollmean_df['distance'] = pd.to_numeric(rollmean_df['distance'])\n",
    "rollmean_df['mean_delta'] = pd.to_numeric(rollmean_df['mean_delta'])\n",
    "rollsd_df['mean_delta'] = pd.to_numeric(rollsd_df['mean_delta'])"
   ]
  },
  {
   "cell_type": "code",
   "execution_count": 756,
   "id": "described-hungarian",
   "metadata": {},
   "outputs": [
    {
     "data": {
      "image/png": "[encoded data removed]",
      "text/plain": [
       "<Figure size 900x400 with 1 Axes>"
      ]
     },
     "metadata": {},
     "output_type": "display_data"
    }
   ],
   "source": [
    "plt.rcParams['figure.figsize'] = [9,4]\n",
    "sns.lineplot(data=rollmean_df, x='distance', y='mean_delta', color=palette_2colrs[1], linewidth=1.5)\n",
    "plt.fill_between(rollmean_df['distance'], rollmean_df['mean_delta'] - rollsd_df['mean_delta'], rollmean_df['mean_delta'] + rollsd_df['mean_delta'], alpha=0.2, color='grey')\n",
    "ax_list[-1].legend(bbox_to_anchor=(1.+legend_x_dist, 1.+legend_y_dist), \n",
    "                   loc='upper left', frameon=False,\n",
    "                   handletextpad=handletextpad);\n",
    "plt.xlabel(\"Distance to TSS (bps)\");\n",
    "# plt.text(8000, 1.6e-6, s=f'{n_genes} HVGs');\n",
    "plt.ylabel(\"Mean |$\\Delta$X|\\n({n_genes} silenced HVGs)\".format(n_genes = n_genes));\n",
    "plt.tight_layout()\n",
    "plt.savefig(\"/home/jovyan/mount/gdrive/DGD_multiomics/plot_outputs/TSS_signal.pdf\");"
   ]
  }
 ],
 "metadata": {
  "kernelspec": {
   "display_name": "Python (multiDGD-env)",
   "language": "python",
   "name": "multidgd-env"
  },
  "language_info": {
   "codemirror_mode": {
    "name": "ipython",
    "version": 3
   },
   "file_extension": ".py",
   "mimetype": "text/x-python",
   "name": "python",
   "nbconvert_exporter": "python",
   "pygments_lexer": "ipython3",
   "version": "3.10.11"
  }
 },
 "nbformat": 4,
 "nbformat_minor": 5
}
